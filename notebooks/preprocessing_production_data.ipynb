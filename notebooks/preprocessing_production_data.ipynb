{
 "cells": [
  {
   "cell_type": "code",
   "id": "initial_id",
   "metadata": {
    "collapsed": true,
    "ExecuteTime": {
     "end_time": "2024-05-29T20:29:30.318541Z",
     "start_time": "2024-05-29T20:29:30.311232Z"
    }
   },
   "source": [
    "import pandas as pd\n",
    "from datetime import datetime\n",
    "import requests"
   ],
   "execution_count": 65,
   "outputs": []
  },
  {
   "metadata": {
    "ExecuteTime": {
     "end_time": "2024-05-29T20:29:30.324082Z",
     "start_time": "2024-05-29T20:29:30.320656Z"
    }
   },
   "cell_type": "code",
   "source": [
    "start_date = '2023-01-01'\n",
    "end_date = '2024-05-27'"
   ],
   "id": "79f69ba73883dcfd",
   "execution_count": 66,
   "outputs": []
  },
  {
   "metadata": {
    "ExecuteTime": {
     "end_time": "2024-05-29T20:29:34.577203Z",
     "start_time": "2024-05-29T20:29:30.325316Z"
    }
   },
   "cell_type": "code",
   "source": [
    "url = f'https://api.energy-charts.info/public_power?country=si&start={start_date}&end={end_date}'\n",
    "response = requests.get(url)\n",
    "\n",
    "data = response.json()"
   ],
   "id": "a62c3e2577c21db0",
   "execution_count": 67,
   "outputs": []
  },
  {
   "metadata": {
    "ExecuteTime": {
     "end_time": "2024-05-29T20:29:34.581418Z",
     "start_time": "2024-05-29T20:29:34.578383Z"
    }
   },
   "cell_type": "code",
   "source": [
    "print('Number of price items:', len(data['production_types'][0]['data']))\n",
    "print('Number of unix time items:', len(data['unix_seconds']))\n",
    "\n",
    "if len(data['production_types'][0]['data']) == len(data['unix_seconds']):\n",
    "    print('Lengths are matching the expected values')"
   ],
   "id": "ef28524312d936b4",
   "execution_count": 68,
   "outputs": []
  },
  {
   "metadata": {
    "ExecuteTime": {
     "end_time": "2024-05-29T20:29:35.021826Z",
     "start_time": "2024-05-29T20:29:34.582372Z"
    }
   },
   "cell_type": "code",
   "source": [
    "production_data = {}\n",
    "for i in range(len(data['production_types'])):\n",
    "    print(data['production_types'][i]['name'])\n",
    "    production_per_type = []\n",
    "    for j in range(len(data['production_types'][i]['data'])):\n",
    "        production = data['production_types'][i]['data'][j]\n",
    "        timestamp = datetime.fromtimestamp(data['unix_seconds'][j]).strftime('%Y-%m-%dT%H:%M:%S')\n",
    "        \n",
    "        production_per_type.append({'date': timestamp, 'production': production})\n",
    "        \n",
    "    production_data[data['production_types'][i]['name']] = production_per_type"
   ],
   "id": "9e0ce26501683d37",
   "execution_count": 69,
   "outputs": []
  },
  {
   "metadata": {
    "ExecuteTime": {
     "end_time": "2024-05-29T20:29:35.104828Z",
     "start_time": "2024-05-29T20:29:35.023746Z"
    }
   },
   "cell_type": "code",
   "source": [
    "dfs = []\n",
    "for key in production_data.keys():\n",
    "    print(key)\n",
    "    df = pd.DataFrame(production_data[key])\n",
    "    df['date'] = pd.to_datetime(df['date'])\n",
    "    dfs.append(df)"
   ],
   "id": "9f06c8a05a94b2c7",
   "execution_count": 70,
   "outputs": []
  },
  {
   "metadata": {
    "ExecuteTime": {
     "end_time": "2024-05-29T20:29:35.110048Z",
     "start_time": "2024-05-29T20:29:35.105523Z"
    }
   },
   "cell_type": "code",
   "source": "dfs[0].head()",
   "id": "3fdc9737825d344c",
   "execution_count": 71,
   "outputs": []
  },
  {
   "metadata": {
    "ExecuteTime": {
     "end_time": "2024-05-29T20:29:35.728268Z",
     "start_time": "2024-05-29T20:29:35.110871Z"
    }
   },
   "cell_type": "code",
   "source": [
    "weather_url = f'https://archive-api.open-meteo.com/v1/archive?latitude=46.0833&longitude=15&start_date={start_date}&end_date={end_date}&hourly=temperature_2m,relative_humidity_2m,apparent_temperature,precipitation,cloud_cover,wind_speed_10m&timezone=Europe%2FBerlin'\n",
    "response = requests.get(weather_url)\n",
    "\n",
    "weather_data = response.json()"
   ],
   "id": "e2a0380befaa1ec0",
   "execution_count": 72,
   "outputs": []
  },
  {
   "metadata": {
    "ExecuteTime": {
     "end_time": "2024-05-29T20:29:35.742378Z",
     "start_time": "2024-05-29T20:29:35.728961Z"
    }
   },
   "cell_type": "code",
   "source": [
    "daily_weather_data = []\n",
    "for i in range(len(weather_data['hourly']['time'])):\n",
    "    temperature = weather_data['hourly']['temperature_2m'][i]\n",
    "    humidity = weather_data['hourly']['relative_humidity_2m'][i]\n",
    "    precipitation = weather_data['hourly']['precipitation'][i]\n",
    "    cloud_cover = weather_data['hourly']['cloud_cover'][i]\n",
    "    wind_speed = weather_data['hourly']['wind_speed_10m'][i]\n",
    "    \n",
    "    new_data = {'date': weather_data['hourly']['time'][i], 'temperature': temperature, 'humidity': humidity, 'precipitation': precipitation, 'cloud_cover': cloud_cover, 'wind_speed': wind_speed}\n",
    "    daily_weather_data.append(new_data)"
   ],
   "id": "3039aa2ec3b1e90d",
   "execution_count": 73,
   "outputs": []
  },
  {
   "metadata": {
    "ExecuteTime": {
     "end_time": "2024-05-29T20:29:35.761016Z",
     "start_time": "2024-05-29T20:29:35.743136Z"
    }
   },
   "cell_type": "code",
   "source": [
    "df_weather = pd.DataFrame(daily_weather_data)\n",
    "df_weather.head(48)"
   ],
   "id": "eb49e6a147f7e1e9",
   "execution_count": 74,
   "outputs": []
  },
  {
   "metadata": {
    "ExecuteTime": {
     "end_time": "2024-05-29T20:29:35.763728Z",
     "start_time": "2024-05-29T20:29:35.761764Z"
    }
   },
   "cell_type": "code",
   "source": [
    "print(df_weather.shape)\n",
    "for df in dfs: print(df.shape)"
   ],
   "id": "b9014ebaee6dacf3",
   "execution_count": 75,
   "outputs": []
  },
  {
   "metadata": {
    "ExecuteTime": {
     "end_time": "2024-05-29T20:29:35.768185Z",
     "start_time": "2024-05-29T20:29:35.764431Z"
    }
   },
   "cell_type": "code",
   "source": "for df in dfs: print(df.dtypes)",
   "id": "1fd041d2da33ee58",
   "execution_count": 76,
   "outputs": []
  },
  {
   "metadata": {
    "ExecuteTime": {
     "end_time": "2024-05-29T20:29:35.773426Z",
     "start_time": "2024-05-29T20:29:35.768935Z"
    }
   },
   "cell_type": "code",
   "source": [
    "df_weather['date'] = pd.to_datetime(df_weather['date'])\n",
    "df_weather.dtypes"
   ],
   "id": "d9a6b4865071e91e",
   "execution_count": 77,
   "outputs": []
  },
  {
   "metadata": {
    "ExecuteTime": {
     "end_time": "2024-05-29T20:29:35.779699Z",
     "start_time": "2024-05-29T20:29:35.774029Z"
    }
   },
   "cell_type": "code",
   "source": "for df in dfs: print(df.isnull().sum())",
   "id": "67acc7726b411033",
   "execution_count": 78,
   "outputs": []
  },
  {
   "metadata": {
    "ExecuteTime": {
     "end_time": "2024-05-29T20:29:35.784361Z",
     "start_time": "2024-05-29T20:29:35.781638Z"
    }
   },
   "cell_type": "code",
   "source": "df_weather.isnull().sum()",
   "id": "6200e952da364c20",
   "execution_count": 79,
   "outputs": []
  },
  {
   "metadata": {
    "ExecuteTime": {
     "end_time": "2024-05-29T20:29:36.311243Z",
     "start_time": "2024-05-29T20:29:35.784923Z"
    }
   },
   "cell_type": "code",
   "source": [
    "production_types = list(production_data.keys())\n",
    "production_types_modified = [ptype.lower().replace(' ', '_').replace('/', '_') for ptype in production_types]\n",
    "\n",
    "for i, df in enumerate(dfs):\n",
    "    df_merged = pd.merge(df, df_weather, on='date')\n",
    "    # df_merged.drop('date', axis=1, inplace=True)\n",
    "    print(df_merged.head())\n",
    "    df_merged.to_csv(f'../data/processed/{production_types_modified[i]}.csv', index=False)"
   ],
   "id": "d86da97a8cdd49fc",
   "execution_count": 80,
   "outputs": []
  }
 ],
 "metadata": {
  "kernelspec": {
   "display_name": "Python 3",
   "language": "python",
   "name": "python3"
  },
  "language_info": {
   "codemirror_mode": {
    "name": "ipython",
    "version": 2
   },
   "file_extension": ".py",
   "mimetype": "text/x-python",
   "name": "python",
   "nbconvert_exporter": "python",
   "pygments_lexer": "ipython2",
   "version": "2.7.6"
  }
 },
 "nbformat": 4,
 "nbformat_minor": 5
}
