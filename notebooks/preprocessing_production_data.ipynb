{
 "cells": [
  {
   "cell_type": "code",
   "id": "initial_id",
   "metadata": {
    "collapsed": true,
    "ExecuteTime": {
     "end_time": "2024-06-03T06:32:04.463476Z",
     "start_time": "2024-06-03T06:32:04.461270Z"
    }
   },
   "source": [
    "import pandas as pd\n",
    "from datetime import datetime\n",
    "import requests"
   ],
   "execution_count": 12,
   "outputs": []
  },
  {
   "metadata": {
    "ExecuteTime": {
     "end_time": "2024-06-03T06:32:04.471461Z",
     "start_time": "2024-06-03T06:32:04.469439Z"
    }
   },
   "cell_type": "code",
   "source": [
    "start_date = '2023-01-01'\n",
    "end_date = '2024-06-01'"
   ],
   "id": "79f69ba73883dcfd",
   "execution_count": 13,
   "outputs": []
  },
  {
   "metadata": {
    "ExecuteTime": {
     "end_time": "2024-06-03T06:32:08.420921Z",
     "start_time": "2024-06-03T06:32:04.485468Z"
    }
   },
   "cell_type": "code",
   "source": [
    "url = f'https://api.energy-charts.info/public_power?country=si&start={start_date}&end={end_date}'\n",
    "response = requests.get(url)\n",
    "\n",
    "data = response.json()"
   ],
   "id": "a62c3e2577c21db0",
   "execution_count": 14,
   "outputs": []
  },
  {
   "metadata": {
    "ExecuteTime": {
     "end_time": "2024-06-03T06:32:08.424268Z",
     "start_time": "2024-06-03T06:32:08.422014Z"
    }
   },
   "cell_type": "code",
   "source": [
    "print('Number of price items:', len(data['production_types'][0]['data']))\n",
    "print('Number of unix time items:', len(data['unix_seconds']))\n",
    "\n",
    "if len(data['production_types'][0]['data']) == len(data['unix_seconds']):\n",
    "    print('Lengths are matching the expected values')"
   ],
   "id": "ef28524312d936b4",
   "execution_count": 15,
   "outputs": []
  },
  {
   "metadata": {
    "ExecuteTime": {
     "end_time": "2024-06-03T06:32:08.878301Z",
     "start_time": "2024-06-03T06:32:08.424916Z"
    }
   },
   "cell_type": "code",
   "source": [
    "production_data = {}\n",
    "for i in range(len(data['production_types'])):\n",
    "    print(data['production_types'][i]['name'])\n",
    "    production_per_type = []\n",
    "    for j in range(len(data['production_types'][i]['data'])):\n",
    "        production = data['production_types'][i]['data'][j]\n",
    "        timestamp = datetime.fromtimestamp(data['unix_seconds'][j]).strftime('%Y-%m-%dT%H:%M:%S')\n",
    "        \n",
    "        production_per_type.append({'date': timestamp, 'production': production})\n",
    "        \n",
    "    production_data[data['production_types'][i]['name']] = production_per_type"
   ],
   "id": "9e0ce26501683d37",
   "execution_count": 16,
   "outputs": []
  },
  {
   "metadata": {
    "ExecuteTime": {
     "end_time": "2024-06-03T06:32:08.959519Z",
     "start_time": "2024-06-03T06:32:08.879687Z"
    }
   },
   "cell_type": "code",
   "source": [
    "dfs = []\n",
    "for key in production_data.keys():\n",
    "    print(key)\n",
    "    df = pd.DataFrame(production_data[key])\n",
    "    df['date'] = pd.to_datetime(df['date'])\n",
    "    dfs.append(df)"
   ],
   "id": "9f06c8a05a94b2c7",
   "execution_count": 17,
   "outputs": []
  },
  {
   "metadata": {
    "ExecuteTime": {
     "end_time": "2024-06-03T06:32:08.988895Z",
     "start_time": "2024-06-03T06:32:08.960264Z"
    }
   },
   "cell_type": "code",
   "source": "dfs[0].head()",
   "id": "3fdc9737825d344c",
   "execution_count": 18,
   "outputs": []
  },
  {
   "metadata": {
    "ExecuteTime": {
     "end_time": "2024-06-03T06:32:09.415806Z",
     "start_time": "2024-06-03T06:32:08.989716Z"
    }
   },
   "cell_type": "code",
   "source": [
    "weather_url = f'https://archive-api.open-meteo.com/v1/archive?latitude=46.0833&longitude=15&start_date={start_date}&end_date={end_date}&hourly=temperature_2m,relative_humidity_2m,apparent_temperature,precipitation,cloud_cover,wind_speed_10m&timezone=Europe%2FBerlin'\n",
    "response = requests.get(weather_url)\n",
    "\n",
    "weather_data = response.json()"
   ],
   "id": "e2a0380befaa1ec0",
   "execution_count": 19,
   "outputs": []
  },
  {
   "metadata": {
    "ExecuteTime": {
     "end_time": "2024-06-03T06:32:09.426758Z",
     "start_time": "2024-06-03T06:32:09.416398Z"
    }
   },
   "cell_type": "code",
   "source": [
    "daily_weather_data = []\n",
    "for i in range(len(weather_data['hourly']['time'])):\n",
    "    temperature = weather_data['hourly']['temperature_2m'][i]\n",
    "    humidity = weather_data['hourly']['relative_humidity_2m'][i]\n",
    "    precipitation = weather_data['hourly']['precipitation'][i]\n",
    "    cloud_cover = weather_data['hourly']['cloud_cover'][i]\n",
    "    wind_speed = weather_data['hourly']['wind_speed_10m'][i]\n",
    "    \n",
    "    new_data = {'date': weather_data['hourly']['time'][i], 'temperature': temperature, 'humidity': humidity, 'precipitation': precipitation, 'cloud_cover': cloud_cover, 'wind_speed': wind_speed}\n",
    "    daily_weather_data.append(new_data)"
   ],
   "id": "3039aa2ec3b1e90d",
   "execution_count": 20,
   "outputs": []
  },
  {
   "metadata": {
    "ExecuteTime": {
     "end_time": "2024-06-03T06:32:09.444045Z",
     "start_time": "2024-06-03T06:32:09.427515Z"
    }
   },
   "cell_type": "code",
   "source": [
    "df_weather = pd.DataFrame(daily_weather_data)\n",
    "df_weather.head(48)"
   ],
   "id": "eb49e6a147f7e1e9",
   "execution_count": 21,
   "outputs": []
  },
  {
   "metadata": {
    "ExecuteTime": {
     "end_time": "2024-06-03T06:32:09.446798Z",
     "start_time": "2024-06-03T06:32:09.444842Z"
    }
   },
   "cell_type": "code",
   "source": [
    "print(df_weather.shape)\n",
    "for df in dfs: print(df.shape)"
   ],
   "id": "b9014ebaee6dacf3",
   "execution_count": 22,
   "outputs": []
  },
  {
   "metadata": {
    "ExecuteTime": {
     "end_time": "2024-06-03T06:32:09.452347Z",
     "start_time": "2024-06-03T06:32:09.448590Z"
    }
   },
   "cell_type": "code",
   "source": "for df in dfs: print(df.dtypes)",
   "id": "1fd041d2da33ee58",
   "execution_count": 23,
   "outputs": []
  },
  {
   "metadata": {
    "ExecuteTime": {
     "end_time": "2024-06-03T06:32:09.457783Z",
     "start_time": "2024-06-03T06:32:09.452969Z"
    }
   },
   "cell_type": "code",
   "source": [
    "df_weather['date'] = pd.to_datetime(df_weather['date'])\n",
    "df_weather.dtypes"
   ],
   "id": "d9a6b4865071e91e",
   "execution_count": 24,
   "outputs": []
  },
  {
   "metadata": {
    "ExecuteTime": {
     "end_time": "2024-06-03T06:32:09.463892Z",
     "start_time": "2024-06-03T06:32:09.458642Z"
    }
   },
   "cell_type": "code",
   "source": "for df in dfs: print(df.isnull().sum())",
   "id": "67acc7726b411033",
   "execution_count": 25,
   "outputs": []
  },
  {
   "metadata": {
    "ExecuteTime": {
     "end_time": "2024-06-03T06:32:09.467416Z",
     "start_time": "2024-06-03T06:32:09.464544Z"
    }
   },
   "cell_type": "code",
   "source": "df_weather.isnull().sum()",
   "id": "6200e952da364c20",
   "execution_count": 26,
   "outputs": []
  },
  {
   "metadata": {
    "ExecuteTime": {
     "end_time": "2024-06-03T06:32:09.977676Z",
     "start_time": "2024-06-03T06:32:09.468110Z"
    }
   },
   "cell_type": "code",
   "source": [
    "production_types = list(production_data.keys())\n",
    "production_types_modified = [ptype.lower().replace(' ', '_').replace('/', '_') for ptype in production_types]\n",
    "\n",
    "for i, df in enumerate(dfs):\n",
    "    df_merged = pd.merge(df, df_weather, on='date')\n",
    "    # df_merged.drop('date', axis=1, inplace=True)\n",
    "    print(df_merged.head())\n",
    "    df_merged.to_csv(f'../data/processed/new_{production_types_modified[i]}.csv', index=False)"
   ],
   "id": "d86da97a8cdd49fc",
   "execution_count": 27,
   "outputs": []
  }
 ],
 "metadata": {
  "kernelspec": {
   "display_name": "Python 3",
   "language": "python",
   "name": "python3"
  },
  "language_info": {
   "codemirror_mode": {
    "name": "ipython",
    "version": 2
   },
   "file_extension": ".py",
   "mimetype": "text/x-python",
   "name": "python",
   "nbconvert_exporter": "python",
   "pygments_lexer": "ipython2",
   "version": "2.7.6"
  }
 },
 "nbformat": 4,
 "nbformat_minor": 5
}
