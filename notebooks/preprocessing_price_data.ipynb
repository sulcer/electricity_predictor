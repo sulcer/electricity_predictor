{
 "cells": [
  {
   "cell_type": "code",
   "id": "initial_id",
   "metadata": {
    "collapsed": true,
    "ExecuteTime": {
     "end_time": "2024-05-29T20:28:57.099974Z",
     "start_time": "2024-05-29T20:28:57.094930Z"
    }
   },
   "source": [
    "import pandas as pd\n",
    "from datetime import datetime\n",
    "import requests"
   ],
   "execution_count": 173,
   "outputs": []
  },
  {
   "metadata": {
    "ExecuteTime": {
     "end_time": "2024-05-29T20:28:57.104029Z",
     "start_time": "2024-05-29T20:28:57.102004Z"
    }
   },
   "cell_type": "code",
   "source": [
    "start_date = '2023-01-01'\n",
    "end_date = '2024-05-27'"
   ],
   "id": "7fe80ff0ce85ab73",
   "execution_count": 174,
   "outputs": []
  },
  {
   "metadata": {
    "ExecuteTime": {
     "end_time": "2024-05-29T20:28:59.661273Z",
     "start_time": "2024-05-29T20:28:57.108133Z"
    }
   },
   "cell_type": "code",
   "source": [
    "url = f'https://api.energy-charts.info/price?bzn=SI&start={start_date}&end={end_date}'\n",
    "response = requests.get(url)\n",
    "\n",
    "data = response.json()"
   ],
   "id": "edaa9f7860041541",
   "execution_count": 175,
   "outputs": []
  },
  {
   "metadata": {
    "ExecuteTime": {
     "end_time": "2024-05-29T20:28:59.666865Z",
     "start_time": "2024-05-29T20:28:59.663304Z"
    }
   },
   "cell_type": "code",
   "source": [
    "print('Number of price items:', len(data['price']))\n",
    "print('Number of unix time items:', len(data['unix_seconds']))\n",
    "\n",
    "if len(data['price']) == len(data['unix_seconds']):\n",
    "    print('Lengths are matching the expected values')"
   ],
   "id": "31c3e09971e78b13",
   "execution_count": 176,
   "outputs": []
  },
  {
   "metadata": {
    "ExecuteTime": {
     "end_time": "2024-05-29T20:28:59.671967Z",
     "start_time": "2024-05-29T20:28:59.668565Z"
    }
   },
   "cell_type": "code",
   "source": [
    "print('Response data from:', datetime.fromtimestamp(data['unix_seconds'][0]).strftime('%Y-%m-%d %H:%M:%S'))\n",
    "print('Response data to:', datetime.fromtimestamp(data['unix_seconds'][-1]).strftime('%Y-%m-%d %H:%M:%S'))"
   ],
   "id": "be4c8ee269d8a37b",
   "execution_count": 177,
   "outputs": []
  },
  {
   "metadata": {
    "ExecuteTime": {
     "end_time": "2024-05-29T20:28:59.719405Z",
     "start_time": "2024-05-29T20:28:59.674012Z"
    }
   },
   "cell_type": "code",
   "source": [
    "daily_price_data = []\n",
    "for i in range(len(data['price'])):\n",
    "    timestamp = datetime.fromtimestamp(data['unix_seconds'][i]).strftime('%Y-%m-%dT%H:%M:%S')\n",
    "    price = data['price'][i]\n",
    "    \n",
    "    new_data = {'date': timestamp, 'price': price}\n",
    "    daily_price_data.append(new_data)"
   ],
   "id": "a82a730d518466d3",
   "execution_count": 178,
   "outputs": []
  },
  {
   "metadata": {
    "ExecuteTime": {
     "end_time": "2024-05-29T20:28:59.731163Z",
     "start_time": "2024-05-29T20:28:59.720085Z"
    }
   },
   "cell_type": "code",
   "source": [
    "df = pd.DataFrame(daily_price_data)\n",
    "df.head(48)"
   ],
   "id": "df492a8a030254ce",
   "execution_count": 179,
   "outputs": []
  },
  {
   "metadata": {
    "ExecuteTime": {
     "end_time": "2024-05-29T20:29:00.993464Z",
     "start_time": "2024-05-29T20:28:59.731739Z"
    }
   },
   "cell_type": "code",
   "source": [
    "weather_url = f'https://archive-api.open-meteo.com/v1/archive?latitude=46.0833&longitude=15&start_date={start_date}&end_date={end_date}&hourly=temperature_2m,relative_humidity_2m,apparent_temperature,precipitation,cloud_cover,wind_speed_10m&timezone=Europe%2FBerlin'\n",
    "response = requests.get(weather_url)\n",
    "\n",
    "weather_data = response.json()"
   ],
   "id": "682823084c18d904",
   "execution_count": 180,
   "outputs": []
  },
  {
   "metadata": {
    "ExecuteTime": {
     "end_time": "2024-05-29T20:29:01.013059Z",
     "start_time": "2024-05-29T20:29:00.994741Z"
    }
   },
   "cell_type": "code",
   "source": [
    "daily_weather_data = []\n",
    "for i in range(len(weather_data['hourly']['time'])):\n",
    "    temperature = weather_data['hourly']['temperature_2m'][i]\n",
    "    humidity = weather_data['hourly']['relative_humidity_2m'][i]\n",
    "    precipitation = weather_data['hourly']['precipitation'][i]\n",
    "    cloud_cover = weather_data['hourly']['cloud_cover'][i]\n",
    "    wind_speed = weather_data['hourly']['wind_speed_10m'][i]\n",
    "    \n",
    "    new_data = {'date': weather_data['hourly']['time'][i], 'temperature': temperature, 'humidity': humidity, 'precipitation': precipitation, 'cloud_cover': cloud_cover, 'wind_speed': wind_speed}\n",
    "    daily_weather_data.append(new_data)"
   ],
   "id": "cce9ced78ebe5de1",
   "execution_count": 181,
   "outputs": []
  },
  {
   "metadata": {
    "ExecuteTime": {
     "end_time": "2024-05-29T20:29:01.034341Z",
     "start_time": "2024-05-29T20:29:01.014200Z"
    }
   },
   "cell_type": "code",
   "source": [
    "df_weather = pd.DataFrame(daily_weather_data)\n",
    "df_weather.head(48)"
   ],
   "id": "297b6a412b709209",
   "execution_count": 182,
   "outputs": []
  },
  {
   "metadata": {
    "ExecuteTime": {
     "end_time": "2024-05-29T20:29:01.036883Z",
     "start_time": "2024-05-29T20:29:01.035130Z"
    }
   },
   "cell_type": "code",
   "source": [
    "print(df_weather.shape)\n",
    "print(df.shape)"
   ],
   "id": "ea6c3263a1d5ced2",
   "execution_count": 183,
   "outputs": []
  },
  {
   "metadata": {
    "ExecuteTime": {
     "end_time": "2024-05-29T20:29:01.044724Z",
     "start_time": "2024-05-29T20:29:01.038621Z"
    }
   },
   "cell_type": "code",
   "source": [
    "df['date'] = pd.to_datetime(df['date'])\n",
    "df.dtypes"
   ],
   "id": "30300f93c81adb21",
   "execution_count": 184,
   "outputs": []
  },
  {
   "metadata": {
    "ExecuteTime": {
     "end_time": "2024-05-29T20:29:01.050099Z",
     "start_time": "2024-05-29T20:29:01.045290Z"
    }
   },
   "cell_type": "code",
   "source": [
    "df_weather['date'] = pd.to_datetime(df_weather['date'])\n",
    "df_weather.dtypes"
   ],
   "id": "61bc9f669314ea1e",
   "execution_count": 185,
   "outputs": []
  },
  {
   "metadata": {
    "ExecuteTime": {
     "end_time": "2024-05-29T20:29:01.054113Z",
     "start_time": "2024-05-29T20:29:01.050842Z"
    }
   },
   "cell_type": "code",
   "source": "df.isnull().sum()",
   "id": "a1eca385dbf3ef2c",
   "execution_count": 186,
   "outputs": []
  },
  {
   "metadata": {
    "ExecuteTime": {
     "end_time": "2024-05-29T20:29:01.057737Z",
     "start_time": "2024-05-29T20:29:01.054649Z"
    }
   },
   "cell_type": "code",
   "source": "df_weather.isnull().sum()",
   "id": "710917a60aa40047",
   "execution_count": 187,
   "outputs": []
  },
  {
   "metadata": {
    "ExecuteTime": {
     "end_time": "2024-05-29T20:29:01.064961Z",
     "start_time": "2024-05-29T20:29:01.058399Z"
    }
   },
   "cell_type": "code",
   "source": [
    "df_merged = pd.merge(df, df_weather, on='date')\n",
    "# df_merged.drop('date', axis=1, inplace=True)\n",
    "df_merged.head()"
   ],
   "id": "6afd69204a385d64",
   "execution_count": 188,
   "outputs": []
  },
  {
   "metadata": {
    "ExecuteTime": {
     "end_time": "2024-05-29T20:29:01.117667Z",
     "start_time": "2024-05-29T20:29:01.065838Z"
    }
   },
   "cell_type": "code",
   "source": "df_merged.to_csv('../data/processed/price_data.csv', index=False)",
   "id": "5a44802908efcdef",
   "execution_count": 189,
   "outputs": []
  }
 ],
 "metadata": {
  "kernelspec": {
   "display_name": "Python 3",
   "language": "python",
   "name": "python3"
  },
  "language_info": {
   "codemirror_mode": {
    "name": "ipython",
    "version": 2
   },
   "file_extension": ".py",
   "mimetype": "text/x-python",
   "name": "python",
   "nbconvert_exporter": "python",
   "pygments_lexer": "ipython2",
   "version": "2.7.6"
  }
 },
 "nbformat": 4,
 "nbformat_minor": 5
}
