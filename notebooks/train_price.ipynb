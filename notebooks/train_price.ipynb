{
 "cells": [
  {
   "cell_type": "code",
   "id": "initial_id",
   "metadata": {
    "collapsed": true,
    "ExecuteTime": {
     "end_time": "2024-05-31T18:46:16.977905Z",
     "start_time": "2024-05-31T18:46:16.971750Z"
    }
   },
   "source": [
    "import pandas as pd\n",
    "import numpy as np\n",
    "from keras.src.layers import GRU, Dropout, Dense\n",
    "from keras.src.optimizers import Adam\n",
    "from keras import Sequential, Input\n",
    "from sklearn.feature_selection import mutual_info_regression\n",
    "from sklearn.preprocessing import MinMaxScaler\n",
    "from sklearn.metrics import mean_squared_error, mean_absolute_error, explained_variance_score\n",
    "from matplotlib import pyplot as plt\n",
    "from keras.src.callbacks import EarlyStopping, ReduceLROnPlateau\n",
    "from keras.src.layers import Bidirectional"
   ],
   "outputs": [],
   "execution_count": 50
  },
  {
   "metadata": {
    "ExecuteTime": {
     "end_time": "2024-05-31T18:46:17.009403Z",
     "start_time": "2024-05-31T18:46:16.996186Z"
    }
   },
   "cell_type": "code",
   "source": "df = pd.read_csv(\"../data/processed/price_data.csv\")",
   "id": "d4e90fcd852997ee",
   "outputs": [],
   "execution_count": 51
  },
  {
   "metadata": {
    "ExecuteTime": {
     "end_time": "2024-05-31T18:46:17.063495Z",
     "start_time": "2024-05-31T18:46:17.057317Z"
    }
   },
   "cell_type": "code",
   "source": "df.head()",
   "id": "4d73269c9c554f02",
   "outputs": [
    {
     "data": {
      "text/plain": [
       "                  date  price  temperature  humidity  precipitation  \\\n",
       "0  2023-01-01 00:00:00  13.31          6.9        91            0.0   \n",
       "1  2023-01-01 01:00:00  -0.07          6.9        92            0.0   \n",
       "2  2023-01-01 02:00:00  -0.47          8.1        89            0.0   \n",
       "3  2023-01-01 03:00:00  -1.56          7.6        91            0.0   \n",
       "4  2023-01-01 04:00:00  -1.94          7.3        92            0.0   \n",
       "\n",
       "   cloud_cover  wind_speed  \n",
       "0           53        20.9  \n",
       "1           32        20.7  \n",
       "2            8        23.5  \n",
       "3            6        22.1  \n",
       "4           24        21.4  "
      ],
      "text/html": [
       "<div>\n",
       "<style scoped>\n",
       "    .dataframe tbody tr th:only-of-type {\n",
       "        vertical-align: middle;\n",
       "    }\n",
       "\n",
       "    .dataframe tbody tr th {\n",
       "        vertical-align: top;\n",
       "    }\n",
       "\n",
       "    .dataframe thead th {\n",
       "        text-align: right;\n",
       "    }\n",
       "</style>\n",
       "<table border=\"1\" class=\"dataframe\">\n",
       "  <thead>\n",
       "    <tr style=\"text-align: right;\">\n",
       "      <th></th>\n",
       "      <th>date</th>\n",
       "      <th>price</th>\n",
       "      <th>temperature</th>\n",
       "      <th>humidity</th>\n",
       "      <th>precipitation</th>\n",
       "      <th>cloud_cover</th>\n",
       "      <th>wind_speed</th>\n",
       "    </tr>\n",
       "  </thead>\n",
       "  <tbody>\n",
       "    <tr>\n",
       "      <th>0</th>\n",
       "      <td>2023-01-01 00:00:00</td>\n",
       "      <td>13.31</td>\n",
       "      <td>6.9</td>\n",
       "      <td>91</td>\n",
       "      <td>0.0</td>\n",
       "      <td>53</td>\n",
       "      <td>20.9</td>\n",
       "    </tr>\n",
       "    <tr>\n",
       "      <th>1</th>\n",
       "      <td>2023-01-01 01:00:00</td>\n",
       "      <td>-0.07</td>\n",
       "      <td>6.9</td>\n",
       "      <td>92</td>\n",
       "      <td>0.0</td>\n",
       "      <td>32</td>\n",
       "      <td>20.7</td>\n",
       "    </tr>\n",
       "    <tr>\n",
       "      <th>2</th>\n",
       "      <td>2023-01-01 02:00:00</td>\n",
       "      <td>-0.47</td>\n",
       "      <td>8.1</td>\n",
       "      <td>89</td>\n",
       "      <td>0.0</td>\n",
       "      <td>8</td>\n",
       "      <td>23.5</td>\n",
       "    </tr>\n",
       "    <tr>\n",
       "      <th>3</th>\n",
       "      <td>2023-01-01 03:00:00</td>\n",
       "      <td>-1.56</td>\n",
       "      <td>7.6</td>\n",
       "      <td>91</td>\n",
       "      <td>0.0</td>\n",
       "      <td>6</td>\n",
       "      <td>22.1</td>\n",
       "    </tr>\n",
       "    <tr>\n",
       "      <th>4</th>\n",
       "      <td>2023-01-01 04:00:00</td>\n",
       "      <td>-1.94</td>\n",
       "      <td>7.3</td>\n",
       "      <td>92</td>\n",
       "      <td>0.0</td>\n",
       "      <td>24</td>\n",
       "      <td>21.4</td>\n",
       "    </tr>\n",
       "  </tbody>\n",
       "</table>\n",
       "</div>"
      ]
     },
     "execution_count": 52,
     "metadata": {},
     "output_type": "execute_result"
    }
   ],
   "execution_count": 52
  },
  {
   "metadata": {
    "ExecuteTime": {
     "end_time": "2024-05-31T18:46:17.078123Z",
     "start_time": "2024-05-31T18:46:17.074581Z"
    }
   },
   "cell_type": "code",
   "source": "df.isnull().sum()",
   "id": "12e8c74fba9de354",
   "outputs": [
    {
     "data": {
      "text/plain": [
       "date             0\n",
       "price            0\n",
       "temperature      0\n",
       "humidity         0\n",
       "precipitation    0\n",
       "cloud_cover      0\n",
       "wind_speed       0\n",
       "dtype: int64"
      ]
     },
     "execution_count": 53,
     "metadata": {},
     "output_type": "execute_result"
    }
   ],
   "execution_count": 53
  },
  {
   "metadata": {
    "ExecuteTime": {
     "end_time": "2024-05-31T18:46:17.081596Z",
     "start_time": "2024-05-31T18:46:17.079057Z"
    }
   },
   "cell_type": "code",
   "source": "df.dtypes",
   "id": "8e6dfc59cd889672",
   "outputs": [
    {
     "data": {
      "text/plain": [
       "date              object\n",
       "price            float64\n",
       "temperature      float64\n",
       "humidity           int64\n",
       "precipitation    float64\n",
       "cloud_cover        int64\n",
       "wind_speed       float64\n",
       "dtype: object"
      ]
     },
     "execution_count": 54,
     "metadata": {},
     "output_type": "execute_result"
    }
   ],
   "execution_count": 54
  },
  {
   "metadata": {
    "ExecuteTime": {
     "end_time": "2024-05-31T18:46:17.089476Z",
     "start_time": "2024-05-31T18:46:17.087244Z"
    }
   },
   "cell_type": "code",
   "source": [
    "def create_time_series(data, n_past):\n",
    "    X, y = [], []\n",
    "    for i in range(n_past, len(data)):\n",
    "            X.append(data[i - n_past:i, 0:data.shape[1]])\n",
    "            y.append(data[i,0])\n",
    "    return np.array(X),np.array(y)"
   ],
   "id": "7729010d4574130b",
   "outputs": [],
   "execution_count": 55
  },
  {
   "metadata": {
    "ExecuteTime": {
     "end_time": "2024-05-31T18:46:17.093348Z",
     "start_time": "2024-05-31T18:46:17.090597Z"
    }
   },
   "cell_type": "code",
   "source": [
    "def create_model(train_input_shape):\n",
    "    model = Sequential(name='Bidirectional_GRU')\n",
    "    optimizer = Adam(learning_rate=0.001) \n",
    "    \n",
    "    model.add(Input(shape=(train_input_shape.shape[1], train_input_shape.shape[2])))\n",
    "    model.add(Bidirectional(GRU(128, return_sequences=True)))\n",
    "    model.add(Dropout(0.3))\n",
    "    model.add(Bidirectional(GRU(64, return_sequences=True)))\n",
    "    model.add(Dropout(0.3))\n",
    "    model.add(Bidirectional(GRU(32)))\n",
    "    model.add(Dense(units=32, activation=\"relu\"))\n",
    "    model.add(Dense(1))\n",
    "    \n",
    "    model.compile(optimizer=optimizer, loss=\"mean_squared_error\")\n",
    "    return model"
   ],
   "id": "ef75ccf6e0ae2ff4",
   "outputs": [],
   "execution_count": 56
  },
  {
   "metadata": {
    "ExecuteTime": {
     "end_time": "2024-05-31T18:46:17.102371Z",
     "start_time": "2024-05-31T18:46:17.099994Z"
    }
   },
   "cell_type": "code",
   "source": [
    "# Callbacks for early stopping and learning rate reduction\n",
    "early_stopping = EarlyStopping(monitor='val_loss', patience=10, restore_best_weights=True)\n",
    "reduce_lr = ReduceLROnPlateau(monitor='val_loss', factor=0.5, patience=5, min_lr=1e-6)"
   ],
   "id": "15b40e81966305f9",
   "outputs": [],
   "execution_count": 57
  },
  {
   "metadata": {
    "ExecuteTime": {
     "end_time": "2024-05-31T18:46:17.120014Z",
     "start_time": "2024-05-31T18:46:17.118149Z"
    }
   },
   "cell_type": "code",
   "source": "window_size = 24",
   "id": "edbe9e54a710cd5d",
   "outputs": [],
   "execution_count": 58
  },
  {
   "metadata": {
    "ExecuteTime": {
     "end_time": "2024-05-31T18:46:17.141601Z",
     "start_time": "2024-05-31T18:46:17.139491Z"
    }
   },
   "cell_type": "code",
   "source": [
    "input_data = df.columns.tolist()\n",
    "output_data = 'price'\n",
    "\n",
    "input_data.remove(output_data)\n",
    "input_data.remove('date')"
   ],
   "id": "c8310c0114468363",
   "outputs": [],
   "execution_count": 59
  },
  {
   "metadata": {
    "ExecuteTime": {
     "end_time": "2024-05-31T18:46:17.356196Z",
     "start_time": "2024-05-31T18:46:17.195378Z"
    }
   },
   "cell_type": "code",
   "source": [
    "ig_scores = mutual_info_regression(df[input_data], df[output_data])\n",
    "\n",
    "feature_scores = pd.DataFrame({'Feature': df[input_data].columns, 'Information_Gain': ig_scores})\n",
    "feature_scores = feature_scores.sort_values(by='Information_Gain', ascending=False)\n",
    "\n",
    "feature_scores.reset_index(drop=True, inplace=True)\n",
    "feature_scores.head()"
   ],
   "id": "516560b3fae9b019",
   "outputs": [
    {
     "data": {
      "text/plain": [
       "         Feature  Information_Gain\n",
       "0    temperature          0.083000\n",
       "1       humidity          0.023031\n",
       "2     wind_speed          0.022078\n",
       "3    cloud_cover          0.006776\n",
       "4  precipitation          0.003195"
      ],
      "text/html": [
       "<div>\n",
       "<style scoped>\n",
       "    .dataframe tbody tr th:only-of-type {\n",
       "        vertical-align: middle;\n",
       "    }\n",
       "\n",
       "    .dataframe tbody tr th {\n",
       "        vertical-align: top;\n",
       "    }\n",
       "\n",
       "    .dataframe thead th {\n",
       "        text-align: right;\n",
       "    }\n",
       "</style>\n",
       "<table border=\"1\" class=\"dataframe\">\n",
       "  <thead>\n",
       "    <tr style=\"text-align: right;\">\n",
       "      <th></th>\n",
       "      <th>Feature</th>\n",
       "      <th>Information_Gain</th>\n",
       "    </tr>\n",
       "  </thead>\n",
       "  <tbody>\n",
       "    <tr>\n",
       "      <th>0</th>\n",
       "      <td>temperature</td>\n",
       "      <td>0.083000</td>\n",
       "    </tr>\n",
       "    <tr>\n",
       "      <th>1</th>\n",
       "      <td>humidity</td>\n",
       "      <td>0.023031</td>\n",
       "    </tr>\n",
       "    <tr>\n",
       "      <th>2</th>\n",
       "      <td>wind_speed</td>\n",
       "      <td>0.022078</td>\n",
       "    </tr>\n",
       "    <tr>\n",
       "      <th>3</th>\n",
       "      <td>cloud_cover</td>\n",
       "      <td>0.006776</td>\n",
       "    </tr>\n",
       "    <tr>\n",
       "      <th>4</th>\n",
       "      <td>precipitation</td>\n",
       "      <td>0.003195</td>\n",
       "    </tr>\n",
       "  </tbody>\n",
       "</table>\n",
       "</div>"
      ]
     },
     "execution_count": 60,
     "metadata": {},
     "output_type": "execute_result"
    }
   ],
   "execution_count": 60
  },
  {
   "metadata": {
    "ExecuteTime": {
     "end_time": "2024-05-31T18:46:17.359224Z",
     "start_time": "2024-05-31T18:46:17.357088Z"
    }
   },
   "cell_type": "code",
   "source": [
    "output_data = [output_data]\n",
    "for i in feature_scores['Feature'][:3].tolist():\n",
    "    output_data.append(i)"
   ],
   "id": "56e80f9f6ddca59b",
   "outputs": [],
   "execution_count": 61
  },
  {
   "metadata": {
    "ExecuteTime": {
     "end_time": "2024-05-31T18:46:17.364302Z",
     "start_time": "2024-05-31T18:46:17.359892Z"
    }
   },
   "cell_type": "code",
   "source": [
    "input_columns = output_data\n",
    "df[input_columns].head()"
   ],
   "id": "e3b1b82a6f9dea4d",
   "outputs": [
    {
     "data": {
      "text/plain": [
       "   price  temperature  humidity  wind_speed\n",
       "0  13.31          6.9        91        20.9\n",
       "1  -0.07          6.9        92        20.7\n",
       "2  -0.47          8.1        89        23.5\n",
       "3  -1.56          7.6        91        22.1\n",
       "4  -1.94          7.3        92        21.4"
      ],
      "text/html": [
       "<div>\n",
       "<style scoped>\n",
       "    .dataframe tbody tr th:only-of-type {\n",
       "        vertical-align: middle;\n",
       "    }\n",
       "\n",
       "    .dataframe tbody tr th {\n",
       "        vertical-align: top;\n",
       "    }\n",
       "\n",
       "    .dataframe thead th {\n",
       "        text-align: right;\n",
       "    }\n",
       "</style>\n",
       "<table border=\"1\" class=\"dataframe\">\n",
       "  <thead>\n",
       "    <tr style=\"text-align: right;\">\n",
       "      <th></th>\n",
       "      <th>price</th>\n",
       "      <th>temperature</th>\n",
       "      <th>humidity</th>\n",
       "      <th>wind_speed</th>\n",
       "    </tr>\n",
       "  </thead>\n",
       "  <tbody>\n",
       "    <tr>\n",
       "      <th>0</th>\n",
       "      <td>13.31</td>\n",
       "      <td>6.9</td>\n",
       "      <td>91</td>\n",
       "      <td>20.9</td>\n",
       "    </tr>\n",
       "    <tr>\n",
       "      <th>1</th>\n",
       "      <td>-0.07</td>\n",
       "      <td>6.9</td>\n",
       "      <td>92</td>\n",
       "      <td>20.7</td>\n",
       "    </tr>\n",
       "    <tr>\n",
       "      <th>2</th>\n",
       "      <td>-0.47</td>\n",
       "      <td>8.1</td>\n",
       "      <td>89</td>\n",
       "      <td>23.5</td>\n",
       "    </tr>\n",
       "    <tr>\n",
       "      <th>3</th>\n",
       "      <td>-1.56</td>\n",
       "      <td>7.6</td>\n",
       "      <td>91</td>\n",
       "      <td>22.1</td>\n",
       "    </tr>\n",
       "    <tr>\n",
       "      <th>4</th>\n",
       "      <td>-1.94</td>\n",
       "      <td>7.3</td>\n",
       "      <td>92</td>\n",
       "      <td>21.4</td>\n",
       "    </tr>\n",
       "  </tbody>\n",
       "</table>\n",
       "</div>"
      ]
     },
     "execution_count": 62,
     "metadata": {},
     "output_type": "execute_result"
    }
   ],
   "execution_count": 62
  },
  {
   "metadata": {
    "ExecuteTime": {
     "end_time": "2024-05-31T18:46:17.367982Z",
     "start_time": "2024-05-31T18:46:17.365632Z"
    }
   },
   "cell_type": "code",
   "source": [
    "filtered_df = df[input_columns]\n",
    "dataset = filtered_df.values"
   ],
   "id": "7b72c9509b4210b0",
   "outputs": [],
   "execution_count": 63
  },
  {
   "metadata": {
    "ExecuteTime": {
     "end_time": "2024-05-31T18:46:17.370608Z",
     "start_time": "2024-05-31T18:46:17.368559Z"
    }
   },
   "cell_type": "code",
   "source": [
    "test_data_size = round(0.2 * len(dataset))\n",
    "\n",
    "train_data = dataset[:-test_data_size]\n",
    "test_data = dataset[-test_data_size:]\n",
    "\n",
    "print(\"Train data shape:\", train_data.shape)\n",
    "print(\"Test data shape:\", test_data.shape)"
   ],
   "id": "b5c56fbb9f06973e",
   "outputs": [
    {
     "name": "stdout",
     "output_type": "stream",
     "text": [
      "Train data shape: (9906, 4)\n",
      "Test data shape: (2477, 4)\n"
     ]
    }
   ],
   "execution_count": 64
  },
  {
   "metadata": {
    "ExecuteTime": {
     "end_time": "2024-05-31T18:46:17.373933Z",
     "start_time": "2024-05-31T18:46:17.371155Z"
    }
   },
   "cell_type": "code",
   "source": [
    "scaler = MinMaxScaler()\n",
    "\n",
    "train_data = scaler.fit_transform(train_data)\n",
    "test_data = scaler.transform(test_data)"
   ],
   "id": "678ec31c805a69b1",
   "outputs": [],
   "execution_count": 65
  },
  {
   "metadata": {
    "ExecuteTime": {
     "end_time": "2024-05-31T18:46:17.390369Z",
     "start_time": "2024-05-31T18:46:17.374528Z"
    }
   },
   "cell_type": "code",
   "source": [
    "X_train, y_train = create_time_series(train_data, window_size)\n",
    "X_test, y_test = create_time_series(test_data, window_size)"
   ],
   "id": "9da4ef3dcd5f80c4",
   "outputs": [],
   "execution_count": 66
  },
  {
   "metadata": {
    "ExecuteTime": {
     "end_time": "2024-05-31T18:46:17.395140Z",
     "start_time": "2024-05-31T18:46:17.391390Z"
    }
   },
   "cell_type": "code",
   "source": [
    "print(\"Shape of X_train:\", X_train.shape)\n",
    "print(\"Shape of X_test:\", X_test.shape)\n",
    "print(\"Shape of y_train:\", y_train.shape)\n",
    "print(\"Shape of y_test:\", y_test.shape)"
   ],
   "id": "e4f5290cf22659f8",
   "outputs": [
    {
     "name": "stdout",
     "output_type": "stream",
     "text": [
      "Shape of X_train: (9882, 24, 4)\n",
      "Shape of X_test: (2453, 24, 4)\n",
      "Shape of y_train: (9882,)\n",
      "Shape of y_test: (2453,)\n"
     ]
    }
   ],
   "execution_count": 67
  },
  {
   "metadata": {
    "ExecuteTime": {
     "end_time": "2024-05-31T18:46:17.471928Z",
     "start_time": "2024-05-31T18:46:17.396201Z"
    }
   },
   "cell_type": "code",
   "source": "model = create_model(X_train)",
   "id": "623cc643cfb418cc",
   "outputs": [],
   "execution_count": 68
  },
  {
   "metadata": {
    "ExecuteTime": {
     "end_time": "2024-05-31T19:01:09.764569Z",
     "start_time": "2024-05-31T18:46:17.474180Z"
    }
   },
   "cell_type": "code",
   "source": [
    "hist = model.fit(\n",
    "    X_train, y_train,\n",
    "    epochs=100,\n",
    "    batch_size=64,\n",
    "    validation_data=(X_test, y_test),\n",
    "    verbose=1,\n",
    "    callbacks=[early_stopping, reduce_lr]\n",
    ")"
   ],
   "id": "4c2864b28ad521d9",
   "outputs": [
    {
     "name": "stdout",
     "output_type": "stream",
     "text": [
      "Epoch 1/100\n",
      "\u001B[1m155/155\u001B[0m \u001B[32m━━━━━━━━━━━━━━━━━━━━\u001B[0m\u001B[37m\u001B[0m \u001B[1m17s\u001B[0m 82ms/step - loss: 0.0249 - val_loss: 8.3074e-04 - learning_rate: 0.0010\n",
      "Epoch 2/100\n",
      "\u001B[1m155/155\u001B[0m \u001B[32m━━━━━━━━━━━━━━━━━━━━\u001B[0m\u001B[37m\u001B[0m \u001B[1m15s\u001B[0m 99ms/step - loss: 0.0018 - val_loss: 7.3043e-04 - learning_rate: 0.0010\n",
      "Epoch 3/100\n",
      "\u001B[1m155/155\u001B[0m \u001B[32m━━━━━━━━━━━━━━━━━━━━\u001B[0m\u001B[37m\u001B[0m \u001B[1m16s\u001B[0m 101ms/step - loss: 0.0013 - val_loss: 0.0011 - learning_rate: 0.0010\n",
      "Epoch 4/100\n",
      "\u001B[1m155/155\u001B[0m \u001B[32m━━━━━━━━━━━━━━━━━━━━\u001B[0m\u001B[37m\u001B[0m \u001B[1m15s\u001B[0m 99ms/step - loss: 0.0012 - val_loss: 5.5921e-04 - learning_rate: 0.0010\n",
      "Epoch 5/100\n",
      "\u001B[1m155/155\u001B[0m \u001B[32m━━━━━━━━━━━━━━━━━━━━\u001B[0m\u001B[37m\u001B[0m \u001B[1m16s\u001B[0m 102ms/step - loss: 0.0010 - val_loss: 4.8634e-04 - learning_rate: 0.0010\n",
      "Epoch 6/100\n",
      "\u001B[1m155/155\u001B[0m \u001B[32m━━━━━━━━━━━━━━━━━━━━\u001B[0m\u001B[37m\u001B[0m \u001B[1m15s\u001B[0m 98ms/step - loss: 8.7041e-04 - val_loss: 4.5311e-04 - learning_rate: 0.0010\n",
      "Epoch 7/100\n",
      "\u001B[1m155/155\u001B[0m \u001B[32m━━━━━━━━━━━━━━━━━━━━\u001B[0m\u001B[37m\u001B[0m \u001B[1m15s\u001B[0m 96ms/step - loss: 8.8049e-04 - val_loss: 4.0946e-04 - learning_rate: 0.0010\n",
      "Epoch 8/100\n",
      "\u001B[1m155/155\u001B[0m \u001B[32m━━━━━━━━━━━━━━━━━━━━\u001B[0m\u001B[37m\u001B[0m \u001B[1m15s\u001B[0m 99ms/step - loss: 7.5433e-04 - val_loss: 5.5096e-04 - learning_rate: 0.0010\n",
      "Epoch 9/100\n",
      "\u001B[1m155/155\u001B[0m \u001B[32m━━━━━━━━━━━━━━━━━━━━\u001B[0m\u001B[37m\u001B[0m \u001B[1m15s\u001B[0m 98ms/step - loss: 6.6288e-04 - val_loss: 7.4186e-04 - learning_rate: 0.0010\n",
      "Epoch 10/100\n",
      "\u001B[1m155/155\u001B[0m \u001B[32m━━━━━━━━━━━━━━━━━━━━\u001B[0m\u001B[37m\u001B[0m \u001B[1m15s\u001B[0m 95ms/step - loss: 6.4114e-04 - val_loss: 3.9176e-04 - learning_rate: 0.0010\n",
      "Epoch 11/100\n",
      "\u001B[1m155/155\u001B[0m \u001B[32m━━━━━━━━━━━━━━━━━━━━\u001B[0m\u001B[37m\u001B[0m \u001B[1m15s\u001B[0m 97ms/step - loss: 5.3506e-04 - val_loss: 4.3910e-04 - learning_rate: 0.0010\n",
      "Epoch 12/100\n",
      "\u001B[1m155/155\u001B[0m \u001B[32m━━━━━━━━━━━━━━━━━━━━\u001B[0m\u001B[37m\u001B[0m \u001B[1m15s\u001B[0m 97ms/step - loss: 4.9509e-04 - val_loss: 3.1689e-04 - learning_rate: 5.0000e-04\n",
      "Epoch 13/100\n",
      "\u001B[1m155/155\u001B[0m \u001B[32m━━━━━━━━━━━━━━━━━━━━\u001B[0m\u001B[37m\u001B[0m \u001B[1m16s\u001B[0m 101ms/step - loss: 4.9188e-04 - val_loss: 3.2901e-04 - learning_rate: 5.0000e-04\n",
      "Epoch 14/100\n",
      "\u001B[1m155/155\u001B[0m \u001B[32m━━━━━━━━━━━━━━━━━━━━\u001B[0m\u001B[37m\u001B[0m \u001B[1m15s\u001B[0m 96ms/step - loss: 5.5328e-04 - val_loss: 3.0181e-04 - learning_rate: 5.0000e-04\n",
      "Epoch 15/100\n",
      "\u001B[1m155/155\u001B[0m \u001B[32m━━━━━━━━━━━━━━━━━━━━\u001B[0m\u001B[37m\u001B[0m \u001B[1m15s\u001B[0m 96ms/step - loss: 4.4508e-04 - val_loss: 3.4502e-04 - learning_rate: 5.0000e-04\n",
      "Epoch 16/100\n",
      "\u001B[1m155/155\u001B[0m \u001B[32m━━━━━━━━━━━━━━━━━━━━\u001B[0m\u001B[37m\u001B[0m \u001B[1m15s\u001B[0m 96ms/step - loss: 5.1263e-04 - val_loss: 2.8868e-04 - learning_rate: 5.0000e-04\n",
      "Epoch 17/100\n",
      "\u001B[1m155/155\u001B[0m \u001B[32m━━━━━━━━━━━━━━━━━━━━\u001B[0m\u001B[37m\u001B[0m \u001B[1m15s\u001B[0m 96ms/step - loss: 4.6922e-04 - val_loss: 2.7024e-04 - learning_rate: 5.0000e-04\n",
      "Epoch 18/100\n",
      "\u001B[1m155/155\u001B[0m \u001B[32m━━━━━━━━━━━━━━━━━━━━\u001B[0m\u001B[37m\u001B[0m \u001B[1m15s\u001B[0m 98ms/step - loss: 3.5440e-04 - val_loss: 2.8939e-04 - learning_rate: 2.5000e-04\n",
      "Epoch 19/100\n",
      "\u001B[1m155/155\u001B[0m \u001B[32m━━━━━━━━━━━━━━━━━━━━\u001B[0m\u001B[37m\u001B[0m \u001B[1m14s\u001B[0m 93ms/step - loss: 3.7796e-04 - val_loss: 2.6285e-04 - learning_rate: 2.5000e-04\n",
      "Epoch 20/100\n",
      "\u001B[1m155/155\u001B[0m \u001B[32m━━━━━━━━━━━━━━━━━━━━\u001B[0m\u001B[37m\u001B[0m \u001B[1m15s\u001B[0m 97ms/step - loss: 5.0027e-04 - val_loss: 2.4211e-04 - learning_rate: 2.5000e-04\n",
      "Epoch 21/100\n",
      "\u001B[1m155/155\u001B[0m \u001B[32m━━━━━━━━━━━━━━━━━━━━\u001B[0m\u001B[37m\u001B[0m \u001B[1m14s\u001B[0m 93ms/step - loss: 3.3279e-04 - val_loss: 2.4014e-04 - learning_rate: 2.5000e-04\n",
      "Epoch 22/100\n",
      "\u001B[1m155/155\u001B[0m \u001B[32m━━━━━━━━━━━━━━━━━━━━\u001B[0m\u001B[37m\u001B[0m \u001B[1m15s\u001B[0m 98ms/step - loss: 3.6904e-04 - val_loss: 2.4296e-04 - learning_rate: 2.5000e-04\n",
      "Epoch 23/100\n",
      "\u001B[1m155/155\u001B[0m \u001B[32m━━━━━━━━━━━━━━━━━━━━\u001B[0m\u001B[37m\u001B[0m \u001B[1m14s\u001B[0m 91ms/step - loss: 3.5820e-04 - val_loss: 2.4242e-04 - learning_rate: 1.2500e-04\n",
      "Epoch 24/100\n",
      "\u001B[1m155/155\u001B[0m \u001B[32m━━━━━━━━━━━━━━━━━━━━\u001B[0m\u001B[37m\u001B[0m \u001B[1m15s\u001B[0m 97ms/step - loss: 3.1678e-04 - val_loss: 2.2601e-04 - learning_rate: 1.2500e-04\n",
      "Epoch 25/100\n",
      "\u001B[1m155/155\u001B[0m \u001B[32m━━━━━━━━━━━━━━━━━━━━\u001B[0m\u001B[37m\u001B[0m \u001B[1m16s\u001B[0m 100ms/step - loss: 3.4910e-04 - val_loss: 2.2805e-04 - learning_rate: 1.2500e-04\n",
      "Epoch 26/100\n",
      "\u001B[1m155/155\u001B[0m \u001B[32m━━━━━━━━━━━━━━━━━━━━\u001B[0m\u001B[37m\u001B[0m \u001B[1m16s\u001B[0m 100ms/step - loss: 3.1326e-04 - val_loss: 2.2309e-04 - learning_rate: 1.2500e-04\n",
      "Epoch 27/100\n",
      "\u001B[1m155/155\u001B[0m \u001B[32m━━━━━━━━━━━━━━━━━━━━\u001B[0m\u001B[37m\u001B[0m \u001B[1m15s\u001B[0m 96ms/step - loss: 3.5223e-04 - val_loss: 2.2972e-04 - learning_rate: 1.2500e-04\n",
      "Epoch 28/100\n",
      "\u001B[1m155/155\u001B[0m \u001B[32m━━━━━━━━━━━━━━━━━━━━\u001B[0m\u001B[37m\u001B[0m \u001B[1m15s\u001B[0m 94ms/step - loss: 3.1971e-04 - val_loss: 2.1562e-04 - learning_rate: 6.2500e-05\n",
      "Epoch 29/100\n",
      "\u001B[1m155/155\u001B[0m \u001B[32m━━━━━━━━━━━━━━━━━━━━\u001B[0m\u001B[37m\u001B[0m \u001B[1m16s\u001B[0m 101ms/step - loss: 3.2955e-04 - val_loss: 2.3581e-04 - learning_rate: 6.2500e-05\n",
      "Epoch 30/100\n",
      "\u001B[1m155/155\u001B[0m \u001B[32m━━━━━━━━━━━━━━━━━━━━\u001B[0m\u001B[37m\u001B[0m \u001B[1m16s\u001B[0m 101ms/step - loss: 3.1744e-04 - val_loss: 2.1714e-04 - learning_rate: 6.2500e-05\n",
      "Epoch 31/100\n",
      "\u001B[1m155/155\u001B[0m \u001B[32m━━━━━━━━━━━━━━━━━━━━\u001B[0m\u001B[37m\u001B[0m \u001B[1m16s\u001B[0m 102ms/step - loss: 3.3836e-04 - val_loss: 2.1233e-04 - learning_rate: 6.2500e-05\n",
      "Epoch 32/100\n",
      "\u001B[1m155/155\u001B[0m \u001B[32m━━━━━━━━━━━━━━━━━━━━\u001B[0m\u001B[37m\u001B[0m \u001B[1m15s\u001B[0m 94ms/step - loss: 2.9048e-04 - val_loss: 2.0939e-04 - learning_rate: 6.2500e-05\n",
      "Epoch 33/100\n",
      "\u001B[1m155/155\u001B[0m \u001B[32m━━━━━━━━━━━━━━━━━━━━\u001B[0m\u001B[37m\u001B[0m \u001B[1m14s\u001B[0m 93ms/step - loss: 3.1846e-04 - val_loss: 2.2480e-04 - learning_rate: 6.2500e-05\n",
      "Epoch 34/100\n",
      "\u001B[1m155/155\u001B[0m \u001B[32m━━━━━━━━━━━━━━━━━━━━\u001B[0m\u001B[37m\u001B[0m \u001B[1m14s\u001B[0m 93ms/step - loss: 2.8267e-04 - val_loss: 2.0725e-04 - learning_rate: 3.1250e-05\n",
      "Epoch 35/100\n",
      "\u001B[1m155/155\u001B[0m \u001B[32m━━━━━━━━━━━━━━━━━━━━\u001B[0m\u001B[37m\u001B[0m \u001B[1m16s\u001B[0m 100ms/step - loss: 3.1253e-04 - val_loss: 2.0760e-04 - learning_rate: 3.1250e-05\n",
      "Epoch 36/100\n",
      "\u001B[1m155/155\u001B[0m \u001B[32m━━━━━━━━━━━━━━━━━━━━\u001B[0m\u001B[37m\u001B[0m \u001B[1m14s\u001B[0m 93ms/step - loss: 3.1745e-04 - val_loss: 2.0478e-04 - learning_rate: 3.1250e-05\n",
      "Epoch 37/100\n",
      "\u001B[1m155/155\u001B[0m \u001B[32m━━━━━━━━━━━━━━━━━━━━\u001B[0m\u001B[37m\u001B[0m \u001B[1m15s\u001B[0m 97ms/step - loss: 2.8370e-04 - val_loss: 2.0266e-04 - learning_rate: 3.1250e-05\n",
      "Epoch 38/100\n",
      "\u001B[1m155/155\u001B[0m \u001B[32m━━━━━━━━━━━━━━━━━━━━\u001B[0m\u001B[37m\u001B[0m \u001B[1m15s\u001B[0m 96ms/step - loss: 2.9558e-04 - val_loss: 2.0637e-04 - learning_rate: 3.1250e-05\n",
      "Epoch 39/100\n",
      "\u001B[1m155/155\u001B[0m \u001B[32m━━━━━━━━━━━━━━━━━━━━\u001B[0m\u001B[37m\u001B[0m \u001B[1m16s\u001B[0m 100ms/step - loss: 2.7263e-04 - val_loss: 2.0193e-04 - learning_rate: 1.5625e-05\n",
      "Epoch 40/100\n",
      "\u001B[1m155/155\u001B[0m \u001B[32m━━━━━━━━━━━━━━━━━━━━\u001B[0m\u001B[37m\u001B[0m \u001B[1m15s\u001B[0m 95ms/step - loss: 2.8368e-04 - val_loss: 2.0171e-04 - learning_rate: 1.5625e-05\n",
      "Epoch 41/100\n",
      "\u001B[1m155/155\u001B[0m \u001B[32m━━━━━━━━━━━━━━━━━━━━\u001B[0m\u001B[37m\u001B[0m \u001B[1m15s\u001B[0m 96ms/step - loss: 2.9529e-04 - val_loss: 2.1535e-04 - learning_rate: 1.5625e-05\n",
      "Epoch 42/100\n",
      "\u001B[1m155/155\u001B[0m \u001B[32m━━━━━━━━━━━━━━━━━━━━\u001B[0m\u001B[37m\u001B[0m \u001B[1m16s\u001B[0m 102ms/step - loss: 2.7783e-04 - val_loss: 2.0096e-04 - learning_rate: 1.5625e-05\n",
      "Epoch 43/100\n",
      "\u001B[1m155/155\u001B[0m \u001B[32m━━━━━━━━━━━━━━━━━━━━\u001B[0m\u001B[37m\u001B[0m \u001B[1m15s\u001B[0m 96ms/step - loss: 3.1064e-04 - val_loss: 2.0567e-04 - learning_rate: 1.5625e-05\n",
      "Epoch 44/100\n",
      "\u001B[1m155/155\u001B[0m \u001B[32m━━━━━━━━━━━━━━━━━━━━\u001B[0m\u001B[37m\u001B[0m \u001B[1m15s\u001B[0m 97ms/step - loss: 3.4118e-04 - val_loss: 2.0393e-04 - learning_rate: 7.8125e-06\n",
      "Epoch 45/100\n",
      "\u001B[1m155/155\u001B[0m \u001B[32m━━━━━━━━━━━━━━━━━━━━\u001B[0m\u001B[37m\u001B[0m \u001B[1m15s\u001B[0m 97ms/step - loss: 3.2068e-04 - val_loss: 2.0289e-04 - learning_rate: 7.8125e-06\n",
      "Epoch 46/100\n",
      "\u001B[1m155/155\u001B[0m \u001B[32m━━━━━━━━━━━━━━━━━━━━\u001B[0m\u001B[37m\u001B[0m \u001B[1m16s\u001B[0m 101ms/step - loss: 3.3502e-04 - val_loss: 2.0297e-04 - learning_rate: 7.8125e-06\n",
      "Epoch 47/100\n",
      "\u001B[1m155/155\u001B[0m \u001B[32m━━━━━━━━━━━━━━━━━━━━\u001B[0m\u001B[37m\u001B[0m \u001B[1m15s\u001B[0m 98ms/step - loss: 2.6296e-04 - val_loss: 2.0440e-04 - learning_rate: 7.8125e-06\n",
      "Epoch 48/100\n",
      "\u001B[1m155/155\u001B[0m \u001B[32m━━━━━━━━━━━━━━━━━━━━\u001B[0m\u001B[37m\u001B[0m \u001B[1m15s\u001B[0m 99ms/step - loss: 3.1787e-04 - val_loss: 2.0352e-04 - learning_rate: 7.8125e-06\n",
      "Epoch 49/100\n",
      "\u001B[1m155/155\u001B[0m \u001B[32m━━━━━━━━━━━━━━━━━━━━\u001B[0m\u001B[37m\u001B[0m \u001B[1m15s\u001B[0m 97ms/step - loss: 2.7788e-04 - val_loss: 1.9927e-04 - learning_rate: 3.9063e-06\n",
      "Epoch 50/100\n",
      "\u001B[1m155/155\u001B[0m \u001B[32m━━━━━━━━━━━━━━━━━━━━\u001B[0m\u001B[37m\u001B[0m \u001B[1m15s\u001B[0m 97ms/step - loss: 3.3763e-04 - val_loss: 2.0657e-04 - learning_rate: 3.9063e-06\n",
      "Epoch 51/100\n",
      "\u001B[1m155/155\u001B[0m \u001B[32m━━━━━━━━━━━━━━━━━━━━\u001B[0m\u001B[37m\u001B[0m \u001B[1m15s\u001B[0m 97ms/step - loss: 2.8673e-04 - val_loss: 2.0275e-04 - learning_rate: 3.9063e-06\n",
      "Epoch 52/100\n",
      "\u001B[1m155/155\u001B[0m \u001B[32m━━━━━━━━━━━━━━━━━━━━\u001B[0m\u001B[37m\u001B[0m \u001B[1m15s\u001B[0m 99ms/step - loss: 2.9557e-04 - val_loss: 2.0413e-04 - learning_rate: 3.9063e-06\n",
      "Epoch 53/100\n",
      "\u001B[1m155/155\u001B[0m \u001B[32m━━━━━━━━━━━━━━━━━━━━\u001B[0m\u001B[37m\u001B[0m \u001B[1m15s\u001B[0m 97ms/step - loss: 3.2513e-04 - val_loss: 2.0061e-04 - learning_rate: 3.9063e-06\n",
      "Epoch 54/100\n",
      "\u001B[1m155/155\u001B[0m \u001B[32m━━━━━━━━━━━━━━━━━━━━\u001B[0m\u001B[37m\u001B[0m \u001B[1m15s\u001B[0m 98ms/step - loss: 3.6140e-04 - val_loss: 2.0410e-04 - learning_rate: 1.9531e-06\n",
      "Epoch 55/100\n",
      "\u001B[1m155/155\u001B[0m \u001B[32m━━━━━━━━━━━━━━━━━━━━\u001B[0m\u001B[37m\u001B[0m \u001B[1m15s\u001B[0m 95ms/step - loss: 3.3713e-04 - val_loss: 2.0565e-04 - learning_rate: 1.9531e-06\n",
      "Epoch 56/100\n",
      "\u001B[1m155/155\u001B[0m \u001B[32m━━━━━━━━━━━━━━━━━━━━\u001B[0m\u001B[37m\u001B[0m \u001B[1m15s\u001B[0m 98ms/step - loss: 3.5498e-04 - val_loss: 2.0002e-04 - learning_rate: 1.9531e-06\n",
      "Epoch 57/100\n",
      "\u001B[1m155/155\u001B[0m \u001B[32m━━━━━━━━━━━━━━━━━━━━\u001B[0m\u001B[37m\u001B[0m \u001B[1m15s\u001B[0m 96ms/step - loss: 3.0967e-04 - val_loss: 2.0227e-04 - learning_rate: 1.9531e-06\n",
      "Epoch 58/100\n",
      "\u001B[1m155/155\u001B[0m \u001B[32m━━━━━━━━━━━━━━━━━━━━\u001B[0m\u001B[37m\u001B[0m \u001B[1m15s\u001B[0m 100ms/step - loss: 2.8472e-04 - val_loss: 2.0401e-04 - learning_rate: 1.9531e-06\n",
      "Epoch 59/100\n",
      "\u001B[1m155/155\u001B[0m \u001B[32m━━━━━━━━━━━━━━━━━━━━\u001B[0m\u001B[37m\u001B[0m \u001B[1m15s\u001B[0m 97ms/step - loss: 2.5792e-04 - val_loss: 2.0219e-04 - learning_rate: 1.0000e-06\n"
     ]
    }
   ],
   "execution_count": 69
  },
  {
   "metadata": {
    "ExecuteTime": {
     "end_time": "2024-05-31T19:01:11.497077Z",
     "start_time": "2024-05-31T19:01:09.765996Z"
    }
   },
   "cell_type": "code",
   "source": "predicted = model.predict(X_test, verbose=0)",
   "id": "807df95438bc96d6",
   "outputs": [],
   "execution_count": 70
  },
  {
   "metadata": {
    "ExecuteTime": {
     "end_time": "2024-05-31T19:01:11.500845Z",
     "start_time": "2024-05-31T19:01:11.497768Z"
    }
   },
   "cell_type": "code",
   "source": [
    "predicted_copy_array = np.repeat(predicted, len(input_columns), axis=-1)\n",
    "predicted_copy_array.shape"
   ],
   "id": "7f43af7257334f21",
   "outputs": [
    {
     "data": {
      "text/plain": [
       "(2453, 4)"
      ]
     },
     "execution_count": 71,
     "metadata": {},
     "output_type": "execute_result"
    }
   ],
   "execution_count": 71
  },
  {
   "metadata": {
    "ExecuteTime": {
     "end_time": "2024-05-31T19:01:11.504592Z",
     "start_time": "2024-05-31T19:01:11.501378Z"
    }
   },
   "cell_type": "code",
   "source": [
    "pred = scaler.inverse_transform(np.reshape(predicted_copy_array,(len(predicted), len(input_columns))))[:, 0]\n",
    "actual_copy_array = np.repeat(y_test, len(input_columns), axis=-1)\n",
    "actual = scaler.inverse_transform(np.reshape(actual_copy_array,(len(y_test), len(input_columns))))[:, 0]"
   ],
   "id": "9ae1d5977997b0e7",
   "outputs": [],
   "execution_count": 72
  },
  {
   "metadata": {
    "ExecuteTime": {
     "end_time": "2024-05-31T19:01:11.508527Z",
     "start_time": "2024-05-31T19:01:11.505185Z"
    }
   },
   "cell_type": "code",
   "source": [
    "mse = mean_squared_error(actual, pred)\n",
    "mae = mean_absolute_error(actual, pred)\n",
    "evs = explained_variance_score(actual, pred)"
   ],
   "id": "7fdab36ed3a6ddc2",
   "outputs": [],
   "execution_count": 73
  },
  {
   "metadata": {
    "ExecuteTime": {
     "end_time": "2024-05-31T19:01:11.511178Z",
     "start_time": "2024-05-31T19:01:11.509349Z"
    }
   },
   "cell_type": "code",
   "source": [
    "print(f'MSE: {mse:.2f}')\n",
    "print(f'MAE: {mae:.2f}')\n",
    "print(f'EVS: {evs:.2f}')"
   ],
   "id": "6d93f93f8fb8126a",
   "outputs": [
    {
     "name": "stdout",
     "output_type": "stream",
     "text": [
      "MSE: 170.94\n",
      "MAE: 9.16\n",
      "EVS: 0.86\n"
     ]
    }
   ],
   "execution_count": 74
  },
  {
   "metadata": {
    "ExecuteTime": {
     "end_time": "2024-05-31T19:01:11.525129Z",
     "start_time": "2024-05-31T19:01:11.512002Z"
    }
   },
   "cell_type": "code",
   "source": [
    "dates = df['date'].values\n",
    "\n",
    "output_df = {\n",
    "    'Date': dates[-test_data_size + window_size:],\n",
    "    'True': actual,\n",
    "    'Predicted': pred\n",
    "}\n",
    "\n",
    "output_df = pd.DataFrame(output_df)\n",
    "output_df.head(10)"
   ],
   "id": "18383e9230823703",
   "outputs": [
    {
     "data": {
      "text/plain": [
       "                  Date   True  Predicted\n",
       "0  2024-02-18 18:00:00  70.60  76.327888\n",
       "1  2024-02-18 19:00:00  70.00  77.775742\n",
       "2  2024-02-18 20:00:00  64.71  74.087074\n",
       "3  2024-02-18 21:00:00  59.83  66.747345\n",
       "4  2024-02-18 22:00:00  57.33  60.285366\n",
       "5  2024-02-18 23:00:00  53.94  54.610115\n",
       "6  2024-02-19 00:00:00  44.00  50.959045\n",
       "7  2024-02-19 01:00:00  44.76  42.745865\n",
       "8  2024-02-19 02:00:00  44.85  42.337574\n",
       "9  2024-02-19 03:00:00  43.91  41.275547"
      ],
      "text/html": [
       "<div>\n",
       "<style scoped>\n",
       "    .dataframe tbody tr th:only-of-type {\n",
       "        vertical-align: middle;\n",
       "    }\n",
       "\n",
       "    .dataframe tbody tr th {\n",
       "        vertical-align: top;\n",
       "    }\n",
       "\n",
       "    .dataframe thead th {\n",
       "        text-align: right;\n",
       "    }\n",
       "</style>\n",
       "<table border=\"1\" class=\"dataframe\">\n",
       "  <thead>\n",
       "    <tr style=\"text-align: right;\">\n",
       "      <th></th>\n",
       "      <th>Date</th>\n",
       "      <th>True</th>\n",
       "      <th>Predicted</th>\n",
       "    </tr>\n",
       "  </thead>\n",
       "  <tbody>\n",
       "    <tr>\n",
       "      <th>0</th>\n",
       "      <td>2024-02-18 18:00:00</td>\n",
       "      <td>70.60</td>\n",
       "      <td>76.327888</td>\n",
       "    </tr>\n",
       "    <tr>\n",
       "      <th>1</th>\n",
       "      <td>2024-02-18 19:00:00</td>\n",
       "      <td>70.00</td>\n",
       "      <td>77.775742</td>\n",
       "    </tr>\n",
       "    <tr>\n",
       "      <th>2</th>\n",
       "      <td>2024-02-18 20:00:00</td>\n",
       "      <td>64.71</td>\n",
       "      <td>74.087074</td>\n",
       "    </tr>\n",
       "    <tr>\n",
       "      <th>3</th>\n",
       "      <td>2024-02-18 21:00:00</td>\n",
       "      <td>59.83</td>\n",
       "      <td>66.747345</td>\n",
       "    </tr>\n",
       "    <tr>\n",
       "      <th>4</th>\n",
       "      <td>2024-02-18 22:00:00</td>\n",
       "      <td>57.33</td>\n",
       "      <td>60.285366</td>\n",
       "    </tr>\n",
       "    <tr>\n",
       "      <th>5</th>\n",
       "      <td>2024-02-18 23:00:00</td>\n",
       "      <td>53.94</td>\n",
       "      <td>54.610115</td>\n",
       "    </tr>\n",
       "    <tr>\n",
       "      <th>6</th>\n",
       "      <td>2024-02-19 00:00:00</td>\n",
       "      <td>44.00</td>\n",
       "      <td>50.959045</td>\n",
       "    </tr>\n",
       "    <tr>\n",
       "      <th>7</th>\n",
       "      <td>2024-02-19 01:00:00</td>\n",
       "      <td>44.76</td>\n",
       "      <td>42.745865</td>\n",
       "    </tr>\n",
       "    <tr>\n",
       "      <th>8</th>\n",
       "      <td>2024-02-19 02:00:00</td>\n",
       "      <td>44.85</td>\n",
       "      <td>42.337574</td>\n",
       "    </tr>\n",
       "    <tr>\n",
       "      <th>9</th>\n",
       "      <td>2024-02-19 03:00:00</td>\n",
       "      <td>43.91</td>\n",
       "      <td>41.275547</td>\n",
       "    </tr>\n",
       "  </tbody>\n",
       "</table>\n",
       "</div>"
      ]
     },
     "execution_count": 75,
     "metadata": {},
     "output_type": "execute_result"
    }
   ],
   "execution_count": 75
  },
  {
   "metadata": {
    "ExecuteTime": {
     "end_time": "2024-05-31T19:01:11.529399Z",
     "start_time": "2024-05-31T19:01:11.526036Z"
    }
   },
   "cell_type": "code",
   "source": [
    "def line_plot(plot_out_df):\n",
    "    plt.figure(figsize=(12, 8))\n",
    "    plt.plot(plot_out_df['Date'], plot_out_df['True'], label='True')\n",
    "    plt.plot(plot_out_df['Date'], plot_out_df['Predicted'], label='Predicted')\n",
    "    plt.xlabel('Time')\n",
    "    plt.ylabel('Price')\n",
    "    plt.title('Actual vs Predicted values')\n",
    "    plt.legend()\n",
    "    plt.xticks(rotation=90)\n",
    "    plt.tight_layout()\n",
    "    plt.show()"
   ],
   "id": "bf6a7ff7ca1af799",
   "outputs": [],
   "execution_count": 76
  },
  {
   "metadata": {
    "ExecuteTime": {
     "end_time": "2024-05-31T19:01:11.532951Z",
     "start_time": "2024-05-31T19:01:11.530233Z"
    }
   },
   "cell_type": "code",
   "source": [
    "def loss_line_plot():\n",
    "    plt.figure(figsize=(16, 6))\n",
    "    plt.plot(hist.history['loss'])\n",
    "    plt.plot(hist.history['val_loss'])\n",
    "    plt.title('Model loss')\n",
    "    plt.ylabel('Loss')\n",
    "    plt.xlabel('Epoch')\n",
    "    plt.legend(['Train', 'Validation'], loc='upper right')\n",
    "    plt.show()"
   ],
   "id": "6f230d5326f77600",
   "outputs": [],
   "execution_count": 77
  },
  {
   "metadata": {
    "ExecuteTime": {
     "end_time": "2024-05-31T19:01:11.796383Z",
     "start_time": "2024-05-31T19:01:11.533830Z"
    }
   },
   "cell_type": "code",
   "source": "line_plot(output_df.head(50))",
   "id": "22a8fdf99569e21d",
   "outputs": [
    {
     "data": {
      "text/plain": [
       "<Figure size 1200x800 with 1 Axes>"
      ],
      "image/png": "[encoded data removed]"
     },
     "metadata": {},
     "output_type": "display_data"
    }
   ],
   "execution_count": 78
  },
  {
   "metadata": {
    "ExecuteTime": {
     "end_time": "2024-05-31T19:01:11.920972Z",
     "start_time": "2024-05-31T19:01:11.798960Z"
    }
   },
   "cell_type": "code",
   "source": "loss_line_plot()",
   "id": "5217407aa1c34000",
   "outputs": [
    {
     "data": {
      "text/plain": [
       "<Figure size 1600x600 with 1 Axes>"
      ],
      "image/png": "[encoded data removed]"
     },
     "metadata": {},
     "output_type": "display_data"
    }
   ],
   "execution_count": 79
  }
 ],
 "metadata": {
  "kernelspec": {
   "display_name": "Python 3",
   "language": "python",
   "name": "python3"
  },
  "language_info": {
   "codemirror_mode": {
    "name": "ipython",
    "version": 2
   },
   "file_extension": ".py",
   "mimetype": "text/x-python",
   "name": "python",
   "nbconvert_exporter": "python",
   "pygments_lexer": "ipython2",
   "version": "2.7.6"
  }
 },
 "nbformat": 4,
 "nbformat_minor": 5
}
