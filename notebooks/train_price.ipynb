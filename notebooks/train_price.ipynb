{
 "cells": [
  {
   "cell_type": "code",
   "id": "initial_id",
   "metadata": {
    "collapsed": true,
    "ExecuteTime": {
     "end_time": "2024-06-07T16:28:28.076405Z",
     "start_time": "2024-06-07T16:28:24.168184Z"
    }
   },
   "source": [
    "import pandas as pd\n",
    "import numpy as np\n",
    "from keras.src.layers import GRU, Dropout, Dense\n",
    "from keras.src.optimizers import Adam\n",
    "from keras import Sequential, Input\n",
    "from sklearn.feature_selection import mutual_info_regression\n",
    "from sklearn.preprocessing import MinMaxScaler\n",
    "from sklearn.metrics import mean_squared_error, mean_absolute_error, explained_variance_score\n",
    "from matplotlib import pyplot as plt\n",
    "from keras.src.callbacks import EarlyStopping, ReduceLROnPlateau\n",
    "from keras.src.layers import Bidirectional"
   ],
   "outputs": [],
   "execution_count": 1
  },
  {
   "metadata": {
    "ExecuteTime": {
     "end_time": "2024-06-07T16:28:28.086622Z",
     "start_time": "2024-06-07T16:28:28.077383Z"
    }
   },
   "cell_type": "code",
   "source": "df = pd.read_csv(\"../data/processed/price_data.csv\")",
   "id": "d4e90fcd852997ee",
   "outputs": [],
   "execution_count": 2
  },
  {
   "metadata": {
    "ExecuteTime": {
     "end_time": "2024-06-07T16:28:28.095030Z",
     "start_time": "2024-06-07T16:28:28.087292Z"
    }
   },
   "cell_type": "code",
   "source": "df.head()",
   "id": "4d73269c9c554f02",
   "outputs": [
    {
     "data": {
      "text/plain": [
       "                  date  price  temperature  humidity  precipitation  \\\n",
       "0  2023-01-01 00:00:00  13.31          6.9        91            0.0   \n",
       "1  2023-01-01 01:00:00  -0.07          6.9        92            0.0   \n",
       "2  2023-01-01 02:00:00  -0.47          8.1        89            0.0   \n",
       "3  2023-01-01 03:00:00  -1.56          7.6        91            0.0   \n",
       "4  2023-01-01 04:00:00  -1.94          7.3        92            0.0   \n",
       "\n",
       "   cloud_cover  wind_speed  \n",
       "0           53        20.9  \n",
       "1           32        20.7  \n",
       "2            8        23.5  \n",
       "3            6        22.1  \n",
       "4           24        21.4  "
      ],
      "text/html": [
       "<div>\n",
       "<style scoped>\n",
       "    .dataframe tbody tr th:only-of-type {\n",
       "        vertical-align: middle;\n",
       "    }\n",
       "\n",
       "    .dataframe tbody tr th {\n",
       "        vertical-align: top;\n",
       "    }\n",
       "\n",
       "    .dataframe thead th {\n",
       "        text-align: right;\n",
       "    }\n",
       "</style>\n",
       "<table border=\"1\" class=\"dataframe\">\n",
       "  <thead>\n",
       "    <tr style=\"text-align: right;\">\n",
       "      <th></th>\n",
       "      <th>date</th>\n",
       "      <th>price</th>\n",
       "      <th>temperature</th>\n",
       "      <th>humidity</th>\n",
       "      <th>precipitation</th>\n",
       "      <th>cloud_cover</th>\n",
       "      <th>wind_speed</th>\n",
       "    </tr>\n",
       "  </thead>\n",
       "  <tbody>\n",
       "    <tr>\n",
       "      <th>0</th>\n",
       "      <td>2023-01-01 00:00:00</td>\n",
       "      <td>13.31</td>\n",
       "      <td>6.9</td>\n",
       "      <td>91</td>\n",
       "      <td>0.0</td>\n",
       "      <td>53</td>\n",
       "      <td>20.9</td>\n",
       "    </tr>\n",
       "    <tr>\n",
       "      <th>1</th>\n",
       "      <td>2023-01-01 01:00:00</td>\n",
       "      <td>-0.07</td>\n",
       "      <td>6.9</td>\n",
       "      <td>92</td>\n",
       "      <td>0.0</td>\n",
       "      <td>32</td>\n",
       "      <td>20.7</td>\n",
       "    </tr>\n",
       "    <tr>\n",
       "      <th>2</th>\n",
       "      <td>2023-01-01 02:00:00</td>\n",
       "      <td>-0.47</td>\n",
       "      <td>8.1</td>\n",
       "      <td>89</td>\n",
       "      <td>0.0</td>\n",
       "      <td>8</td>\n",
       "      <td>23.5</td>\n",
       "    </tr>\n",
       "    <tr>\n",
       "      <th>3</th>\n",
       "      <td>2023-01-01 03:00:00</td>\n",
       "      <td>-1.56</td>\n",
       "      <td>7.6</td>\n",
       "      <td>91</td>\n",
       "      <td>0.0</td>\n",
       "      <td>6</td>\n",
       "      <td>22.1</td>\n",
       "    </tr>\n",
       "    <tr>\n",
       "      <th>4</th>\n",
       "      <td>2023-01-01 04:00:00</td>\n",
       "      <td>-1.94</td>\n",
       "      <td>7.3</td>\n",
       "      <td>92</td>\n",
       "      <td>0.0</td>\n",
       "      <td>24</td>\n",
       "      <td>21.4</td>\n",
       "    </tr>\n",
       "  </tbody>\n",
       "</table>\n",
       "</div>"
      ]
     },
     "execution_count": 3,
     "metadata": {},
     "output_type": "execute_result"
    }
   ],
   "execution_count": 3
  },
  {
   "metadata": {
    "ExecuteTime": {
     "end_time": "2024-06-07T16:28:28.101278Z",
     "start_time": "2024-06-07T16:28:28.096329Z"
    }
   },
   "cell_type": "code",
   "source": "df.isnull().sum()",
   "id": "12e8c74fba9de354",
   "outputs": [
    {
     "data": {
      "text/plain": [
       "date             0\n",
       "price            0\n",
       "temperature      0\n",
       "humidity         0\n",
       "precipitation    0\n",
       "cloud_cover      0\n",
       "wind_speed       0\n",
       "dtype: int64"
      ]
     },
     "execution_count": 4,
     "metadata": {},
     "output_type": "execute_result"
    }
   ],
   "execution_count": 4
  },
  {
   "metadata": {
    "ExecuteTime": {
     "end_time": "2024-06-07T16:28:28.104910Z",
     "start_time": "2024-06-07T16:28:28.102072Z"
    }
   },
   "cell_type": "code",
   "source": "df.dtypes",
   "id": "8e6dfc59cd889672",
   "outputs": [
    {
     "data": {
      "text/plain": [
       "date              object\n",
       "price            float64\n",
       "temperature      float64\n",
       "humidity           int64\n",
       "precipitation    float64\n",
       "cloud_cover        int64\n",
       "wind_speed       float64\n",
       "dtype: object"
      ]
     },
     "execution_count": 5,
     "metadata": {},
     "output_type": "execute_result"
    }
   ],
   "execution_count": 5
  },
  {
   "metadata": {
    "ExecuteTime": {
     "end_time": "2024-06-07T16:28:28.107377Z",
     "start_time": "2024-06-07T16:28:28.105497Z"
    }
   },
   "cell_type": "code",
   "source": [
    "def create_time_series(data, n_past):\n",
    "    X, y = [], []\n",
    "    for i in range(n_past, len(data)):\n",
    "            X.append(data[i - n_past:i, 0:data.shape[1]])\n",
    "            y.append(data[i,0])\n",
    "    return np.array(X),np.array(y)"
   ],
   "id": "7729010d4574130b",
   "outputs": [],
   "execution_count": 6
  },
  {
   "metadata": {
    "ExecuteTime": {
     "end_time": "2024-06-07T16:28:28.110037Z",
     "start_time": "2024-06-07T16:28:28.107830Z"
    }
   },
   "cell_type": "code",
   "source": [
    "def create_model(train_input_shape):\n",
    "    model = Sequential(name='Bidirectional_GRU')\n",
    "    optimizer = Adam(learning_rate=0.001) \n",
    "    \n",
    "    model.add(Input(shape=(train_input_shape.shape[1], train_input_shape.shape[2])))\n",
    "    model.add(Bidirectional(GRU(128, return_sequences=True)))\n",
    "    model.add(Dropout(0.3))\n",
    "    model.add(Bidirectional(GRU(64, return_sequences=True)))\n",
    "    model.add(Dropout(0.3))\n",
    "    model.add(Bidirectional(GRU(32)))\n",
    "    model.add(Dense(units=32, activation=\"relu\"))\n",
    "    model.add(Dense(1))\n",
    "    \n",
    "    model.compile(optimizer=optimizer, loss=\"mean_squared_error\")\n",
    "    return model"
   ],
   "id": "ef75ccf6e0ae2ff4",
   "outputs": [],
   "execution_count": 7
  },
  {
   "metadata": {
    "ExecuteTime": {
     "end_time": "2024-06-07T16:28:28.112267Z",
     "start_time": "2024-06-07T16:28:28.110550Z"
    }
   },
   "cell_type": "code",
   "source": [
    "# Callbacks for early stopping and learning rate reduction\n",
    "early_stopping = EarlyStopping(monitor='val_loss', patience=10, restore_best_weights=True)\n",
    "reduce_lr = ReduceLROnPlateau(monitor='val_loss', factor=0.5, patience=5, min_lr=1e-6)"
   ],
   "id": "15b40e81966305f9",
   "outputs": [],
   "execution_count": 8
  },
  {
   "metadata": {
    "ExecuteTime": {
     "end_time": "2024-06-07T16:28:28.114430Z",
     "start_time": "2024-06-07T16:28:28.112890Z"
    }
   },
   "cell_type": "code",
   "source": "window_size = 24",
   "id": "edbe9e54a710cd5d",
   "outputs": [],
   "execution_count": 9
  },
  {
   "metadata": {
    "ExecuteTime": {
     "end_time": "2024-06-07T16:28:28.118063Z",
     "start_time": "2024-06-07T16:28:28.116434Z"
    }
   },
   "cell_type": "code",
   "source": [
    "input_data = df.columns.tolist()\n",
    "output_data = 'price'\n",
    "\n",
    "input_data.remove(output_data)\n",
    "input_data.remove('date')"
   ],
   "id": "c8310c0114468363",
   "outputs": [],
   "execution_count": 10
  },
  {
   "metadata": {
    "ExecuteTime": {
     "end_time": "2024-06-07T16:28:28.272590Z",
     "start_time": "2024-06-07T16:28:28.118649Z"
    }
   },
   "cell_type": "code",
   "source": [
    "ig_scores = mutual_info_regression(df[input_data], df[output_data])\n",
    "\n",
    "feature_scores = pd.DataFrame({'Feature': df[input_data].columns, 'Information_Gain': ig_scores})\n",
    "feature_scores = feature_scores.sort_values(by='Information_Gain', ascending=False)\n",
    "\n",
    "feature_scores.reset_index(drop=True, inplace=True)\n",
    "feature_scores.head()"
   ],
   "id": "516560b3fae9b019",
   "outputs": [
    {
     "data": {
      "text/plain": [
       "         Feature  Information_Gain\n",
       "0    temperature          0.086487\n",
       "1       humidity          0.024268\n",
       "2     wind_speed          0.019325\n",
       "3    cloud_cover          0.005941\n",
       "4  precipitation          0.000974"
      ],
      "text/html": [
       "<div>\n",
       "<style scoped>\n",
       "    .dataframe tbody tr th:only-of-type {\n",
       "        vertical-align: middle;\n",
       "    }\n",
       "\n",
       "    .dataframe tbody tr th {\n",
       "        vertical-align: top;\n",
       "    }\n",
       "\n",
       "    .dataframe thead th {\n",
       "        text-align: right;\n",
       "    }\n",
       "</style>\n",
       "<table border=\"1\" class=\"dataframe\">\n",
       "  <thead>\n",
       "    <tr style=\"text-align: right;\">\n",
       "      <th></th>\n",
       "      <th>Feature</th>\n",
       "      <th>Information_Gain</th>\n",
       "    </tr>\n",
       "  </thead>\n",
       "  <tbody>\n",
       "    <tr>\n",
       "      <th>0</th>\n",
       "      <td>temperature</td>\n",
       "      <td>0.086487</td>\n",
       "    </tr>\n",
       "    <tr>\n",
       "      <th>1</th>\n",
       "      <td>humidity</td>\n",
       "      <td>0.024268</td>\n",
       "    </tr>\n",
       "    <tr>\n",
       "      <th>2</th>\n",
       "      <td>wind_speed</td>\n",
       "      <td>0.019325</td>\n",
       "    </tr>\n",
       "    <tr>\n",
       "      <th>3</th>\n",
       "      <td>cloud_cover</td>\n",
       "      <td>0.005941</td>\n",
       "    </tr>\n",
       "    <tr>\n",
       "      <th>4</th>\n",
       "      <td>precipitation</td>\n",
       "      <td>0.000974</td>\n",
       "    </tr>\n",
       "  </tbody>\n",
       "</table>\n",
       "</div>"
      ]
     },
     "execution_count": 11,
     "metadata": {},
     "output_type": "execute_result"
    }
   ],
   "execution_count": 11
  },
  {
   "metadata": {
    "ExecuteTime": {
     "end_time": "2024-06-07T16:28:28.275277Z",
     "start_time": "2024-06-07T16:28:28.273412Z"
    }
   },
   "cell_type": "code",
   "source": [
    "output_data = [output_data]\n",
    "for i in feature_scores['Feature'][:3].tolist():\n",
    "    output_data.append(i)"
   ],
   "id": "56e80f9f6ddca59b",
   "outputs": [],
   "execution_count": 12
  },
  {
   "metadata": {
    "ExecuteTime": {
     "end_time": "2024-06-07T16:28:28.279974Z",
     "start_time": "2024-06-07T16:28:28.275992Z"
    }
   },
   "cell_type": "code",
   "source": [
    "input_columns = output_data\n",
    "df[input_columns].head()"
   ],
   "id": "e3b1b82a6f9dea4d",
   "outputs": [
    {
     "data": {
      "text/plain": [
       "   price  temperature  humidity  wind_speed\n",
       "0  13.31          6.9        91        20.9\n",
       "1  -0.07          6.9        92        20.7\n",
       "2  -0.47          8.1        89        23.5\n",
       "3  -1.56          7.6        91        22.1\n",
       "4  -1.94          7.3        92        21.4"
      ],
      "text/html": [
       "<div>\n",
       "<style scoped>\n",
       "    .dataframe tbody tr th:only-of-type {\n",
       "        vertical-align: middle;\n",
       "    }\n",
       "\n",
       "    .dataframe tbody tr th {\n",
       "        vertical-align: top;\n",
       "    }\n",
       "\n",
       "    .dataframe thead th {\n",
       "        text-align: right;\n",
       "    }\n",
       "</style>\n",
       "<table border=\"1\" class=\"dataframe\">\n",
       "  <thead>\n",
       "    <tr style=\"text-align: right;\">\n",
       "      <th></th>\n",
       "      <th>price</th>\n",
       "      <th>temperature</th>\n",
       "      <th>humidity</th>\n",
       "      <th>wind_speed</th>\n",
       "    </tr>\n",
       "  </thead>\n",
       "  <tbody>\n",
       "    <tr>\n",
       "      <th>0</th>\n",
       "      <td>13.31</td>\n",
       "      <td>6.9</td>\n",
       "      <td>91</td>\n",
       "      <td>20.9</td>\n",
       "    </tr>\n",
       "    <tr>\n",
       "      <th>1</th>\n",
       "      <td>-0.07</td>\n",
       "      <td>6.9</td>\n",
       "      <td>92</td>\n",
       "      <td>20.7</td>\n",
       "    </tr>\n",
       "    <tr>\n",
       "      <th>2</th>\n",
       "      <td>-0.47</td>\n",
       "      <td>8.1</td>\n",
       "      <td>89</td>\n",
       "      <td>23.5</td>\n",
       "    </tr>\n",
       "    <tr>\n",
       "      <th>3</th>\n",
       "      <td>-1.56</td>\n",
       "      <td>7.6</td>\n",
       "      <td>91</td>\n",
       "      <td>22.1</td>\n",
       "    </tr>\n",
       "    <tr>\n",
       "      <th>4</th>\n",
       "      <td>-1.94</td>\n",
       "      <td>7.3</td>\n",
       "      <td>92</td>\n",
       "      <td>21.4</td>\n",
       "    </tr>\n",
       "  </tbody>\n",
       "</table>\n",
       "</div>"
      ]
     },
     "execution_count": 13,
     "metadata": {},
     "output_type": "execute_result"
    }
   ],
   "execution_count": 13
  },
  {
   "metadata": {
    "ExecuteTime": {
     "end_time": "2024-06-07T16:28:28.282899Z",
     "start_time": "2024-06-07T16:28:28.280510Z"
    }
   },
   "cell_type": "code",
   "source": [
    "filtered_df = df[input_columns]\n",
    "dataset = filtered_df.values"
   ],
   "id": "7b72c9509b4210b0",
   "outputs": [],
   "execution_count": 14
  },
  {
   "metadata": {
    "ExecuteTime": {
     "end_time": "2024-06-07T16:28:28.286140Z",
     "start_time": "2024-06-07T16:28:28.283668Z"
    }
   },
   "cell_type": "code",
   "source": [
    "test_data_size = round(0.2 * len(dataset))\n",
    "\n",
    "train_data = dataset[:-test_data_size]\n",
    "test_data = dataset[-test_data_size:]\n",
    "\n",
    "print(\"Train data shape:\", train_data.shape)\n",
    "print(\"Test data shape:\", test_data.shape)"
   ],
   "id": "b5c56fbb9f06973e",
   "outputs": [
    {
     "name": "stdout",
     "output_type": "stream",
     "text": [
      "Train data shape: (10022, 4)\n",
      "Test data shape: (2505, 4)\n"
     ]
    }
   ],
   "execution_count": 15
  },
  {
   "metadata": {
    "ExecuteTime": {
     "end_time": "2024-06-07T16:28:28.289549Z",
     "start_time": "2024-06-07T16:28:28.286989Z"
    }
   },
   "cell_type": "code",
   "source": [
    "scaler = MinMaxScaler()\n",
    "\n",
    "train_data = scaler.fit_transform(train_data)\n",
    "test_data = scaler.transform(test_data)"
   ],
   "id": "678ec31c805a69b1",
   "outputs": [],
   "execution_count": 16
  },
  {
   "metadata": {
    "ExecuteTime": {
     "end_time": "2024-06-07T16:28:28.301033Z",
     "start_time": "2024-06-07T16:28:28.290193Z"
    }
   },
   "cell_type": "code",
   "source": [
    "X_train, y_train = create_time_series(train_data, window_size)\n",
    "X_test, y_test = create_time_series(test_data, window_size)"
   ],
   "id": "9da4ef3dcd5f80c4",
   "outputs": [],
   "execution_count": 17
  },
  {
   "metadata": {
    "ExecuteTime": {
     "end_time": "2024-06-07T16:28:28.303694Z",
     "start_time": "2024-06-07T16:28:28.301769Z"
    }
   },
   "cell_type": "code",
   "source": [
    "print(\"Shape of X_train:\", X_train.shape)\n",
    "print(\"Shape of X_test:\", X_test.shape)\n",
    "print(\"Shape of y_train:\", y_train.shape)\n",
    "print(\"Shape of y_test:\", y_test.shape)"
   ],
   "id": "e4f5290cf22659f8",
   "outputs": [
    {
     "name": "stdout",
     "output_type": "stream",
     "text": [
      "Shape of X_train: (9998, 24, 4)\n",
      "Shape of X_test: (2481, 24, 4)\n",
      "Shape of y_train: (9998,)\n",
      "Shape of y_test: (2481,)\n"
     ]
    }
   ],
   "execution_count": 18
  },
  {
   "metadata": {
    "ExecuteTime": {
     "end_time": "2024-06-07T16:28:28.406021Z",
     "start_time": "2024-06-07T16:28:28.304443Z"
    }
   },
   "cell_type": "code",
   "source": "model = create_model(X_train)",
   "id": "623cc643cfb418cc",
   "outputs": [],
   "execution_count": 19
  },
  {
   "metadata": {
    "ExecuteTime": {
     "end_time": "2024-06-07T16:41:37.695806Z",
     "start_time": "2024-06-07T16:28:28.406978Z"
    }
   },
   "cell_type": "code",
   "source": [
    "hist = model.fit(\n",
    "    X_train, y_train,\n",
    "    epochs=100,\n",
    "    batch_size=64,\n",
    "    validation_data=(X_test, y_test),\n",
    "    verbose=1,\n",
    "    callbacks=[early_stopping, reduce_lr]\n",
    ")"
   ],
   "id": "4c2864b28ad521d9",
   "outputs": [
    {
     "name": "stdout",
     "output_type": "stream",
     "text": [
      "Epoch 1/100\n",
      "\u001B[1m157/157\u001B[0m \u001B[32m━━━━━━━━━━━━━━━━━━━━\u001B[0m\u001B[37m\u001B[0m \u001B[1m16s\u001B[0m 74ms/step - loss: 0.0397 - val_loss: 0.0011 - learning_rate: 0.0010\n",
      "Epoch 2/100\n",
      "\u001B[1m157/157\u001B[0m \u001B[32m━━━━━━━━━━━━━━━━━━━━\u001B[0m\u001B[37m\u001B[0m \u001B[1m15s\u001B[0m 94ms/step - loss: 0.0016 - val_loss: 9.2910e-04 - learning_rate: 0.0010\n",
      "Epoch 3/100\n",
      "\u001B[1m157/157\u001B[0m \u001B[32m━━━━━━━━━━━━━━━━━━━━\u001B[0m\u001B[37m\u001B[0m \u001B[1m15s\u001B[0m 93ms/step - loss: 0.0013 - val_loss: 0.0010 - learning_rate: 0.0010\n",
      "Epoch 4/100\n",
      "\u001B[1m157/157\u001B[0m \u001B[32m━━━━━━━━━━━━━━━━━━━━\u001B[0m\u001B[37m\u001B[0m \u001B[1m14s\u001B[0m 92ms/step - loss: 0.0011 - val_loss: 0.0014 - learning_rate: 0.0010\n",
      "Epoch 5/100\n",
      "\u001B[1m157/157\u001B[0m \u001B[32m━━━━━━━━━━━━━━━━━━━━\u001B[0m\u001B[37m\u001B[0m \u001B[1m14s\u001B[0m 89ms/step - loss: 0.0010 - val_loss: 7.0227e-04 - learning_rate: 0.0010\n",
      "Epoch 6/100\n",
      "\u001B[1m157/157\u001B[0m \u001B[32m━━━━━━━━━━━━━━━━━━━━\u001B[0m\u001B[37m\u001B[0m \u001B[1m14s\u001B[0m 89ms/step - loss: 8.8952e-04 - val_loss: 8.5888e-04 - learning_rate: 0.0010\n",
      "Epoch 7/100\n",
      "\u001B[1m157/157\u001B[0m \u001B[32m━━━━━━━━━━━━━━━━━━━━\u001B[0m\u001B[37m\u001B[0m \u001B[1m14s\u001B[0m 89ms/step - loss: 9.1922e-04 - val_loss: 7.0357e-04 - learning_rate: 0.0010\n",
      "Epoch 8/100\n",
      "\u001B[1m157/157\u001B[0m \u001B[32m━━━━━━━━━━━━━━━━━━━━\u001B[0m\u001B[37m\u001B[0m \u001B[1m14s\u001B[0m 89ms/step - loss: 7.7608e-04 - val_loss: 4.7498e-04 - learning_rate: 0.0010\n",
      "Epoch 9/100\n",
      "\u001B[1m157/157\u001B[0m \u001B[32m━━━━━━━━━━━━━━━━━━━━\u001B[0m\u001B[37m\u001B[0m \u001B[1m14s\u001B[0m 90ms/step - loss: 6.6796e-04 - val_loss: 6.4050e-04 - learning_rate: 0.0010\n",
      "Epoch 10/100\n",
      "\u001B[1m157/157\u001B[0m \u001B[32m━━━━━━━━━━━━━━━━━━━━\u001B[0m\u001B[37m\u001B[0m \u001B[1m14s\u001B[0m 91ms/step - loss: 6.1179e-04 - val_loss: 5.2347e-04 - learning_rate: 0.0010\n",
      "Epoch 11/100\n",
      "\u001B[1m157/157\u001B[0m \u001B[32m━━━━━━━━━━━━━━━━━━━━\u001B[0m\u001B[37m\u001B[0m \u001B[1m14s\u001B[0m 91ms/step - loss: 6.5470e-04 - val_loss: 5.3005e-04 - learning_rate: 0.0010\n",
      "Epoch 12/100\n",
      "\u001B[1m157/157\u001B[0m \u001B[32m━━━━━━━━━━━━━━━━━━━━\u001B[0m\u001B[37m\u001B[0m \u001B[1m14s\u001B[0m 92ms/step - loss: 6.7406e-04 - val_loss: 3.4995e-04 - learning_rate: 0.0010\n",
      "Epoch 13/100\n",
      "\u001B[1m157/157\u001B[0m \u001B[32m━━━━━━━━━━━━━━━━━━━━\u001B[0m\u001B[37m\u001B[0m \u001B[1m14s\u001B[0m 90ms/step - loss: 5.3347e-04 - val_loss: 3.9394e-04 - learning_rate: 0.0010\n",
      "Epoch 14/100\n",
      "\u001B[1m157/157\u001B[0m \u001B[32m━━━━━━━━━━━━━━━━━━━━\u001B[0m\u001B[37m\u001B[0m \u001B[1m14s\u001B[0m 90ms/step - loss: 5.1496e-04 - val_loss: 3.7683e-04 - learning_rate: 0.0010\n",
      "Epoch 15/100\n",
      "\u001B[1m157/157\u001B[0m \u001B[32m━━━━━━━━━━━━━━━━━━━━\u001B[0m\u001B[37m\u001B[0m \u001B[1m14s\u001B[0m 90ms/step - loss: 4.4621e-04 - val_loss: 3.9063e-04 - learning_rate: 0.0010\n",
      "Epoch 16/100\n",
      "\u001B[1m157/157\u001B[0m \u001B[32m━━━━━━━━━━━━━━━━━━━━\u001B[0m\u001B[37m\u001B[0m \u001B[1m14s\u001B[0m 90ms/step - loss: 4.7445e-04 - val_loss: 4.8008e-04 - learning_rate: 0.0010\n",
      "Epoch 17/100\n",
      "\u001B[1m157/157\u001B[0m \u001B[32m━━━━━━━━━━━━━━━━━━━━\u001B[0m\u001B[37m\u001B[0m \u001B[1m14s\u001B[0m 91ms/step - loss: 3.9189e-04 - val_loss: 2.9515e-04 - learning_rate: 0.0010\n",
      "Epoch 18/100\n",
      "\u001B[1m157/157\u001B[0m \u001B[32m━━━━━━━━━━━━━━━━━━━━\u001B[0m\u001B[37m\u001B[0m \u001B[1m14s\u001B[0m 91ms/step - loss: 3.4599e-04 - val_loss: 2.7666e-04 - learning_rate: 5.0000e-04\n",
      "Epoch 19/100\n",
      "\u001B[1m157/157\u001B[0m \u001B[32m━━━━━━━━━━━━━━━━━━━━\u001B[0m\u001B[37m\u001B[0m \u001B[1m15s\u001B[0m 95ms/step - loss: 3.3298e-04 - val_loss: 2.7128e-04 - learning_rate: 5.0000e-04\n",
      "Epoch 20/100\n",
      "\u001B[1m157/157\u001B[0m \u001B[32m━━━━━━━━━━━━━━━━━━━━\u001B[0m\u001B[37m\u001B[0m \u001B[1m14s\u001B[0m 90ms/step - loss: 3.3090e-04 - val_loss: 2.7846e-04 - learning_rate: 5.0000e-04\n",
      "Epoch 21/100\n",
      "\u001B[1m157/157\u001B[0m \u001B[32m━━━━━━━━━━━━━━━━━━━━\u001B[0m\u001B[37m\u001B[0m \u001B[1m14s\u001B[0m 89ms/step - loss: 4.2940e-04 - val_loss: 3.2599e-04 - learning_rate: 5.0000e-04\n",
      "Epoch 22/100\n",
      "\u001B[1m157/157\u001B[0m \u001B[32m━━━━━━━━━━━━━━━━━━━━\u001B[0m\u001B[37m\u001B[0m \u001B[1m14s\u001B[0m 90ms/step - loss: 3.2887e-04 - val_loss: 2.8503e-04 - learning_rate: 5.0000e-04\n",
      "Epoch 23/100\n",
      "\u001B[1m157/157\u001B[0m \u001B[32m━━━━━━━━━━━━━━━━━━━━\u001B[0m\u001B[37m\u001B[0m \u001B[1m14s\u001B[0m 92ms/step - loss: 3.0110e-04 - val_loss: 2.5933e-04 - learning_rate: 2.5000e-04\n",
      "Epoch 24/100\n",
      "\u001B[1m157/157\u001B[0m \u001B[32m━━━━━━━━━━━━━━━━━━━━\u001B[0m\u001B[37m\u001B[0m \u001B[1m14s\u001B[0m 90ms/step - loss: 2.9680e-04 - val_loss: 2.5032e-04 - learning_rate: 2.5000e-04\n",
      "Epoch 25/100\n",
      "\u001B[1m157/157\u001B[0m \u001B[32m━━━━━━━━━━━━━━━━━━━━\u001B[0m\u001B[37m\u001B[0m \u001B[1m14s\u001B[0m 90ms/step - loss: 3.0042e-04 - val_loss: 3.9490e-04 - learning_rate: 2.5000e-04\n",
      "Epoch 26/100\n",
      "\u001B[1m157/157\u001B[0m \u001B[32m━━━━━━━━━━━━━━━━━━━━\u001B[0m\u001B[37m\u001B[0m \u001B[1m15s\u001B[0m 94ms/step - loss: 3.0798e-04 - val_loss: 2.6613e-04 - learning_rate: 2.5000e-04\n",
      "Epoch 27/100\n",
      "\u001B[1m157/157\u001B[0m \u001B[32m━━━━━━━━━━━━━━━━━━━━\u001B[0m\u001B[37m\u001B[0m \u001B[1m14s\u001B[0m 90ms/step - loss: 4.0373e-04 - val_loss: 3.2415e-04 - learning_rate: 2.5000e-04\n",
      "Epoch 28/100\n",
      "\u001B[1m157/157\u001B[0m \u001B[32m━━━━━━━━━━━━━━━━━━━━\u001B[0m\u001B[37m\u001B[0m \u001B[1m15s\u001B[0m 93ms/step - loss: 2.8304e-04 - val_loss: 2.3426e-04 - learning_rate: 1.2500e-04\n",
      "Epoch 29/100\n",
      "\u001B[1m157/157\u001B[0m \u001B[32m━━━━━━━━━━━━━━━━━━━━\u001B[0m\u001B[37m\u001B[0m \u001B[1m14s\u001B[0m 90ms/step - loss: 2.7363e-04 - val_loss: 2.9076e-04 - learning_rate: 1.2500e-04\n",
      "Epoch 30/100\n",
      "\u001B[1m157/157\u001B[0m \u001B[32m━━━━━━━━━━━━━━━━━━━━\u001B[0m\u001B[37m\u001B[0m \u001B[1m15s\u001B[0m 93ms/step - loss: 2.6496e-04 - val_loss: 2.2798e-04 - learning_rate: 1.2500e-04\n",
      "Epoch 31/100\n",
      "\u001B[1m157/157\u001B[0m \u001B[32m━━━━━━━━━━━━━━━━━━━━\u001B[0m\u001B[37m\u001B[0m \u001B[1m14s\u001B[0m 91ms/step - loss: 2.5819e-04 - val_loss: 2.5338e-04 - learning_rate: 1.2500e-04\n",
      "Epoch 32/100\n",
      "\u001B[1m157/157\u001B[0m \u001B[32m━━━━━━━━━━━━━━━━━━━━\u001B[0m\u001B[37m\u001B[0m \u001B[1m15s\u001B[0m 93ms/step - loss: 2.5773e-04 - val_loss: 2.4065e-04 - learning_rate: 1.2500e-04\n",
      "Epoch 33/100\n",
      "\u001B[1m157/157\u001B[0m \u001B[32m━━━━━━━━━━━━━━━━━━━━\u001B[0m\u001B[37m\u001B[0m \u001B[1m14s\u001B[0m 90ms/step - loss: 2.8780e-04 - val_loss: 2.4217e-04 - learning_rate: 1.2500e-04\n",
      "Epoch 34/100\n",
      "\u001B[1m157/157\u001B[0m \u001B[32m━━━━━━━━━━━━━━━━━━━━\u001B[0m\u001B[37m\u001B[0m \u001B[1m15s\u001B[0m 93ms/step - loss: 2.4424e-04 - val_loss: 2.2767e-04 - learning_rate: 6.2500e-05\n",
      "Epoch 35/100\n",
      "\u001B[1m157/157\u001B[0m \u001B[32m━━━━━━━━━━━━━━━━━━━━\u001B[0m\u001B[37m\u001B[0m \u001B[1m14s\u001B[0m 91ms/step - loss: 2.4572e-04 - val_loss: 2.9184e-04 - learning_rate: 6.2500e-05\n",
      "Epoch 36/100\n",
      "\u001B[1m157/157\u001B[0m \u001B[32m━━━━━━━━━━━━━━━━━━━━\u001B[0m\u001B[37m\u001B[0m \u001B[1m14s\u001B[0m 91ms/step - loss: 2.6459e-04 - val_loss: 2.2047e-04 - learning_rate: 6.2500e-05\n",
      "Epoch 37/100\n",
      "\u001B[1m157/157\u001B[0m \u001B[32m━━━━━━━━━━━━━━━━━━━━\u001B[0m\u001B[37m\u001B[0m \u001B[1m15s\u001B[0m 94ms/step - loss: 2.4457e-04 - val_loss: 2.2024e-04 - learning_rate: 6.2500e-05\n",
      "Epoch 38/100\n",
      "\u001B[1m157/157\u001B[0m \u001B[32m━━━━━━━━━━━━━━━━━━━━\u001B[0m\u001B[37m\u001B[0m \u001B[1m14s\u001B[0m 92ms/step - loss: 2.4900e-04 - val_loss: 2.2534e-04 - learning_rate: 6.2500e-05\n",
      "Epoch 39/100\n",
      "\u001B[1m157/157\u001B[0m \u001B[32m━━━━━━━━━━━━━━━━━━━━\u001B[0m\u001B[37m\u001B[0m \u001B[1m15s\u001B[0m 94ms/step - loss: 2.4980e-04 - val_loss: 2.2236e-04 - learning_rate: 3.1250e-05\n",
      "Epoch 40/100\n",
      "\u001B[1m157/157\u001B[0m \u001B[32m━━━━━━━━━━━━━━━━━━━━\u001B[0m\u001B[37m\u001B[0m \u001B[1m14s\u001B[0m 92ms/step - loss: 2.3976e-04 - val_loss: 2.2842e-04 - learning_rate: 3.1250e-05\n",
      "Epoch 41/100\n",
      "\u001B[1m157/157\u001B[0m \u001B[32m━━━━━━━━━━━━━━━━━━━━\u001B[0m\u001B[37m\u001B[0m \u001B[1m15s\u001B[0m 95ms/step - loss: 2.5856e-04 - val_loss: 2.2143e-04 - learning_rate: 3.1250e-05\n",
      "Epoch 42/100\n",
      "\u001B[1m157/157\u001B[0m \u001B[32m━━━━━━━━━━━━━━━━━━━━\u001B[0m\u001B[37m\u001B[0m \u001B[1m14s\u001B[0m 92ms/step - loss: 2.3848e-04 - val_loss: 2.4475e-04 - learning_rate: 3.1250e-05\n",
      "Epoch 43/100\n",
      "\u001B[1m157/157\u001B[0m \u001B[32m━━━━━━━━━━━━━━━━━━━━\u001B[0m\u001B[37m\u001B[0m \u001B[1m15s\u001B[0m 95ms/step - loss: 2.6952e-04 - val_loss: 2.1627e-04 - learning_rate: 3.1250e-05\n",
      "Epoch 44/100\n",
      "\u001B[1m157/157\u001B[0m \u001B[32m━━━━━━━━━━━━━━━━━━━━\u001B[0m\u001B[37m\u001B[0m \u001B[1m14s\u001B[0m 92ms/step - loss: 2.4956e-04 - val_loss: 2.2395e-04 - learning_rate: 1.5625e-05\n",
      "Epoch 45/100\n",
      "\u001B[1m157/157\u001B[0m \u001B[32m━━━━━━━━━━━━━━━━━━━━\u001B[0m\u001B[37m\u001B[0m \u001B[1m15s\u001B[0m 94ms/step - loss: 2.2625e-04 - val_loss: 2.1470e-04 - learning_rate: 1.5625e-05\n",
      "Epoch 46/100\n",
      "\u001B[1m157/157\u001B[0m \u001B[32m━━━━━━━━━━━━━━━━━━━━\u001B[0m\u001B[37m\u001B[0m \u001B[1m14s\u001B[0m 92ms/step - loss: 2.5190e-04 - val_loss: 2.2357e-04 - learning_rate: 1.5625e-05\n",
      "Epoch 47/100\n",
      "\u001B[1m157/157\u001B[0m \u001B[32m━━━━━━━━━━━━━━━━━━━━\u001B[0m\u001B[37m\u001B[0m \u001B[1m14s\u001B[0m 90ms/step - loss: 2.2874e-04 - val_loss: 2.1721e-04 - learning_rate: 1.5625e-05\n",
      "Epoch 48/100\n",
      "\u001B[1m157/157\u001B[0m \u001B[32m━━━━━━━━━━━━━━━━━━━━\u001B[0m\u001B[37m\u001B[0m \u001B[1m14s\u001B[0m 92ms/step - loss: 2.2771e-04 - val_loss: 2.1743e-04 - learning_rate: 1.5625e-05\n",
      "Epoch 49/100\n",
      "\u001B[1m157/157\u001B[0m \u001B[32m━━━━━━━━━━━━━━━━━━━━\u001B[0m\u001B[37m\u001B[0m \u001B[1m14s\u001B[0m 90ms/step - loss: 2.3312e-04 - val_loss: 2.2308e-04 - learning_rate: 7.8125e-06\n",
      "Epoch 50/100\n",
      "\u001B[1m157/157\u001B[0m \u001B[32m━━━━━━━━━━━━━━━━━━━━\u001B[0m\u001B[37m\u001B[0m \u001B[1m14s\u001B[0m 90ms/step - loss: 2.6520e-04 - val_loss: 2.2824e-04 - learning_rate: 7.8125e-06\n",
      "Epoch 51/100\n",
      "\u001B[1m157/157\u001B[0m \u001B[32m━━━━━━━━━━━━━━━━━━━━\u001B[0m\u001B[37m\u001B[0m \u001B[1m14s\u001B[0m 88ms/step - loss: 2.4692e-04 - val_loss: 2.2278e-04 - learning_rate: 7.8125e-06\n",
      "Epoch 52/100\n",
      "\u001B[1m157/157\u001B[0m \u001B[32m━━━━━━━━━━━━━━━━━━━━\u001B[0m\u001B[37m\u001B[0m \u001B[1m14s\u001B[0m 88ms/step - loss: 2.6492e-04 - val_loss: 2.2018e-04 - learning_rate: 7.8125e-06\n",
      "Epoch 53/100\n",
      "\u001B[1m157/157\u001B[0m \u001B[32m━━━━━━━━━━━━━━━━━━━━\u001B[0m\u001B[37m\u001B[0m \u001B[1m14s\u001B[0m 90ms/step - loss: 2.4886e-04 - val_loss: 2.2128e-04 - learning_rate: 7.8125e-06\n",
      "Epoch 54/100\n",
      "\u001B[1m157/157\u001B[0m \u001B[32m━━━━━━━━━━━━━━━━━━━━\u001B[0m\u001B[37m\u001B[0m \u001B[1m14s\u001B[0m 87ms/step - loss: 2.3555e-04 - val_loss: 2.1795e-04 - learning_rate: 3.9063e-06\n",
      "Epoch 55/100\n",
      "\u001B[1m157/157\u001B[0m \u001B[32m━━━━━━━━━━━━━━━━━━━━\u001B[0m\u001B[37m\u001B[0m \u001B[1m14s\u001B[0m 90ms/step - loss: 2.4877e-04 - val_loss: 2.2275e-04 - learning_rate: 3.9063e-06\n"
     ]
    }
   ],
   "execution_count": 20
  },
  {
   "metadata": {
    "ExecuteTime": {
     "end_time": "2024-06-07T16:41:39.526348Z",
     "start_time": "2024-06-07T16:41:37.696368Z"
    }
   },
   "cell_type": "code",
   "source": "predicted = model.predict(X_test, verbose=0)",
   "id": "807df95438bc96d6",
   "outputs": [],
   "execution_count": 21
  },
  {
   "metadata": {
    "ExecuteTime": {
     "end_time": "2024-06-07T16:41:39.529366Z",
     "start_time": "2024-06-07T16:41:39.526968Z"
    }
   },
   "cell_type": "code",
   "source": [
    "predicted_copy_array = np.repeat(predicted, len(input_columns), axis=-1)\n",
    "predicted_copy_array.shape"
   ],
   "id": "7f43af7257334f21",
   "outputs": [
    {
     "data": {
      "text/plain": [
       "(2481, 4)"
      ]
     },
     "execution_count": 22,
     "metadata": {},
     "output_type": "execute_result"
    }
   ],
   "execution_count": 22
  },
  {
   "metadata": {
    "ExecuteTime": {
     "end_time": "2024-06-07T16:41:39.532428Z",
     "start_time": "2024-06-07T16:41:39.529992Z"
    }
   },
   "cell_type": "code",
   "source": [
    "pred = scaler.inverse_transform(np.reshape(predicted_copy_array,(len(predicted), len(input_columns))))[:, 0]\n",
    "actual_copy_array = np.repeat(y_test, len(input_columns), axis=-1)\n",
    "actual = scaler.inverse_transform(np.reshape(actual_copy_array,(len(y_test), len(input_columns))))[:, 0]"
   ],
   "id": "9ae1d5977997b0e7",
   "outputs": [],
   "execution_count": 23
  },
  {
   "metadata": {
    "ExecuteTime": {
     "end_time": "2024-06-07T16:41:39.536177Z",
     "start_time": "2024-06-07T16:41:39.533074Z"
    }
   },
   "cell_type": "code",
   "source": [
    "mse = mean_squared_error(actual, pred)\n",
    "mae = mean_absolute_error(actual, pred)\n",
    "evs = explained_variance_score(actual, pred)"
   ],
   "id": "7fdab36ed3a6ddc2",
   "outputs": [],
   "execution_count": 24
  },
  {
   "metadata": {
    "ExecuteTime": {
     "end_time": "2024-06-07T16:41:39.538443Z",
     "start_time": "2024-06-07T16:41:39.536727Z"
    }
   },
   "cell_type": "code",
   "source": [
    "print(f'MSE: {mse:.2f}')\n",
    "print(f'MAE: {mae:.2f}')\n",
    "print(f'EVS: {evs:.2f}')"
   ],
   "id": "6d93f93f8fb8126a",
   "outputs": [
    {
     "name": "stdout",
     "output_type": "stream",
     "text": [
      "MSE: 184.17\n",
      "MAE: 9.23\n",
      "EVS: 0.87\n"
     ]
    }
   ],
   "execution_count": 25
  },
  {
   "metadata": {
    "ExecuteTime": {
     "end_time": "2024-06-07T16:41:39.543038Z",
     "start_time": "2024-06-07T16:41:39.538923Z"
    }
   },
   "cell_type": "code",
   "source": [
    "dates = df['date'].values\n",
    "\n",
    "output_df = {\n",
    "    'Date': dates[-test_data_size + window_size:],\n",
    "    'True': actual,\n",
    "    'Predicted': pred\n",
    "}\n",
    "\n",
    "output_df = pd.DataFrame(output_df)\n",
    "output_df.head(10)"
   ],
   "id": "18383e9230823703",
   "outputs": [
    {
     "data": {
      "text/plain": [
       "                  Date   True  Predicted\n",
       "0  2024-02-23 14:00:00  58.47  51.592575\n",
       "1  2024-02-23 15:00:00  61.92  59.006771\n",
       "2  2024-02-23 16:00:00  70.41  73.864990\n",
       "3  2024-02-23 17:00:00  77.63  82.972099\n",
       "4  2024-02-23 18:00:00  86.44  88.861435\n",
       "5  2024-02-23 19:00:00  84.01  87.655212\n",
       "6  2024-02-23 20:00:00  72.97  80.777214\n",
       "7  2024-02-23 21:00:00  69.26  69.098564\n",
       "8  2024-02-23 22:00:00  67.98  60.564812\n",
       "9  2024-02-23 23:00:00  65.10  56.916950"
      ],
      "text/html": [
       "<div>\n",
       "<style scoped>\n",
       "    .dataframe tbody tr th:only-of-type {\n",
       "        vertical-align: middle;\n",
       "    }\n",
       "\n",
       "    .dataframe tbody tr th {\n",
       "        vertical-align: top;\n",
       "    }\n",
       "\n",
       "    .dataframe thead th {\n",
       "        text-align: right;\n",
       "    }\n",
       "</style>\n",
       "<table border=\"1\" class=\"dataframe\">\n",
       "  <thead>\n",
       "    <tr style=\"text-align: right;\">\n",
       "      <th></th>\n",
       "      <th>Date</th>\n",
       "      <th>True</th>\n",
       "      <th>Predicted</th>\n",
       "    </tr>\n",
       "  </thead>\n",
       "  <tbody>\n",
       "    <tr>\n",
       "      <th>0</th>\n",
       "      <td>2024-02-23 14:00:00</td>\n",
       "      <td>58.47</td>\n",
       "      <td>51.592575</td>\n",
       "    </tr>\n",
       "    <tr>\n",
       "      <th>1</th>\n",
       "      <td>2024-02-23 15:00:00</td>\n",
       "      <td>61.92</td>\n",
       "      <td>59.006771</td>\n",
       "    </tr>\n",
       "    <tr>\n",
       "      <th>2</th>\n",
       "      <td>2024-02-23 16:00:00</td>\n",
       "      <td>70.41</td>\n",
       "      <td>73.864990</td>\n",
       "    </tr>\n",
       "    <tr>\n",
       "      <th>3</th>\n",
       "      <td>2024-02-23 17:00:00</td>\n",
       "      <td>77.63</td>\n",
       "      <td>82.972099</td>\n",
       "    </tr>\n",
       "    <tr>\n",
       "      <th>4</th>\n",
       "      <td>2024-02-23 18:00:00</td>\n",
       "      <td>86.44</td>\n",
       "      <td>88.861435</td>\n",
       "    </tr>\n",
       "    <tr>\n",
       "      <th>5</th>\n",
       "      <td>2024-02-23 19:00:00</td>\n",
       "      <td>84.01</td>\n",
       "      <td>87.655212</td>\n",
       "    </tr>\n",
       "    <tr>\n",
       "      <th>6</th>\n",
       "      <td>2024-02-23 20:00:00</td>\n",
       "      <td>72.97</td>\n",
       "      <td>80.777214</td>\n",
       "    </tr>\n",
       "    <tr>\n",
       "      <th>7</th>\n",
       "      <td>2024-02-23 21:00:00</td>\n",
       "      <td>69.26</td>\n",
       "      <td>69.098564</td>\n",
       "    </tr>\n",
       "    <tr>\n",
       "      <th>8</th>\n",
       "      <td>2024-02-23 22:00:00</td>\n",
       "      <td>67.98</td>\n",
       "      <td>60.564812</td>\n",
       "    </tr>\n",
       "    <tr>\n",
       "      <th>9</th>\n",
       "      <td>2024-02-23 23:00:00</td>\n",
       "      <td>65.10</td>\n",
       "      <td>56.916950</td>\n",
       "    </tr>\n",
       "  </tbody>\n",
       "</table>\n",
       "</div>"
      ]
     },
     "execution_count": 26,
     "metadata": {},
     "output_type": "execute_result"
    }
   ],
   "execution_count": 26
  },
  {
   "metadata": {
    "ExecuteTime": {
     "end_time": "2024-06-07T16:41:39.546095Z",
     "start_time": "2024-06-07T16:41:39.543700Z"
    }
   },
   "cell_type": "code",
   "source": [
    "def line_plot(plot_out_df):\n",
    "    plt.figure(figsize=(12, 8))\n",
    "    plt.plot(plot_out_df['Date'], plot_out_df['True'], label='True')\n",
    "    plt.plot(plot_out_df['Date'], plot_out_df['Predicted'], label='Predicted')\n",
    "    plt.xlabel('Time')\n",
    "    plt.ylabel('Price')\n",
    "    plt.title('Actual vs Predicted values')\n",
    "    plt.legend()\n",
    "    plt.xticks(rotation=90)\n",
    "    plt.tight_layout()\n",
    "    plt.show()"
   ],
   "id": "bf6a7ff7ca1af799",
   "outputs": [],
   "execution_count": 27
  },
  {
   "metadata": {
    "ExecuteTime": {
     "end_time": "2024-06-07T16:41:39.550968Z",
     "start_time": "2024-06-07T16:41:39.549091Z"
    }
   },
   "cell_type": "code",
   "source": [
    "def loss_line_plot():\n",
    "    plt.figure(figsize=(16, 6))\n",
    "    plt.plot(hist.history['loss'])\n",
    "    plt.plot(hist.history['val_loss'])\n",
    "    plt.title('Model loss')\n",
    "    plt.ylabel('Loss')\n",
    "    plt.xlabel('Epoch')\n",
    "    plt.legend(['Train', 'Validation'], loc='upper right')\n",
    "    plt.show()"
   ],
   "id": "6f230d5326f77600",
   "outputs": [],
   "execution_count": 28
  },
  {
   "metadata": {
    "ExecuteTime": {
     "end_time": "2024-06-07T16:41:39.799225Z",
     "start_time": "2024-06-07T16:41:39.551729Z"
    }
   },
   "cell_type": "code",
   "source": "line_plot(output_df.head(50))",
   "id": "22a8fdf99569e21d",
   "outputs": [
    {
     "data": {
      "text/plain": [
       "<Figure size 1200x800 with 1 Axes>"
      ],
      "image/png": "[encoded data removed]"
     },
     "metadata": {},
     "output_type": "display_data"
    }
   ],
   "execution_count": 29
  },
  {
   "metadata": {
    "ExecuteTime": {
     "end_time": "2024-06-07T16:41:39.883225Z",
     "start_time": "2024-06-07T16:41:39.800037Z"
    }
   },
   "cell_type": "code",
   "source": "loss_line_plot()",
   "id": "5217407aa1c34000",
   "outputs": [
    {
     "data": {
      "text/plain": [
       "<Figure size 1600x600 with 1 Axes>"
      ],
      "image/png": "[encoded data removed]"
     },
     "metadata": {},
     "output_type": "display_data"
    }
   ],
   "execution_count": 30
  }
 ],
 "metadata": {
  "kernelspec": {
   "display_name": "Python 3",
   "language": "python",
   "name": "python3"
  },
  "language_info": {
   "codemirror_mode": {
    "name": "ipython",
    "version": 2
   },
   "file_extension": ".py",
   "mimetype": "text/x-python",
   "name": "python",
   "nbconvert_exporter": "python",
   "pygments_lexer": "ipython2",
   "version": "2.7.6"
  }
 },
 "nbformat": 4,
 "nbformat_minor": 5
}
