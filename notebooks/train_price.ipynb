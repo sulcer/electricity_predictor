{
 "cells": [
  {
   "cell_type": "code",
   "id": "initial_id",
   "metadata": {
    "collapsed": true,
    "ExecuteTime": {
     "end_time": "2024-05-31T18:46:16.977905Z",
     "start_time": "2024-05-31T18:46:16.971750Z"
    }
   },
   "source": [
    "import pandas as pd\n",
    "import numpy as np\n",
    "from keras.src.layers import GRU, Dropout, Dense\n",
    "from keras.src.optimizers import Adam\n",
    "from keras import Sequential, Input\n",
    "from sklearn.feature_selection import mutual_info_regression\n",
    "from sklearn.preprocessing import MinMaxScaler\n",
    "from sklearn.metrics import mean_squared_error, mean_absolute_error, explained_variance_score\n",
    "from matplotlib import pyplot as plt\n",
    "from keras.src.callbacks import EarlyStopping, ReduceLROnPlateau\n",
    "from keras.src.layers import Bidirectional"
   ],
   "execution_count": 50,
   "outputs": []
  },
  {
   "metadata": {
    "ExecuteTime": {
     "end_time": "2024-05-31T18:46:17.009403Z",
     "start_time": "2024-05-31T18:46:16.996186Z"
    }
   },
   "cell_type": "code",
   "source": "df = pd.read_csv(\"../data/processed/price_data.csv\")",
   "id": "d4e90fcd852997ee",
   "execution_count": 51,
   "outputs": []
  },
  {
   "metadata": {
    "ExecuteTime": {
     "end_time": "2024-05-31T18:46:17.063495Z",
     "start_time": "2024-05-31T18:46:17.057317Z"
    }
   },
   "cell_type": "code",
   "source": "df.head()",
   "id": "4d73269c9c554f02",
   "execution_count": 52,
   "outputs": []
  },
  {
   "metadata": {
    "ExecuteTime": {
     "end_time": "2024-05-31T18:46:17.078123Z",
     "start_time": "2024-05-31T18:46:17.074581Z"
    }
   },
   "cell_type": "code",
   "source": "df.isnull().sum()",
   "id": "12e8c74fba9de354",
   "execution_count": 53,
   "outputs": []
  },
  {
   "metadata": {
    "ExecuteTime": {
     "end_time": "2024-05-31T18:46:17.081596Z",
     "start_time": "2024-05-31T18:46:17.079057Z"
    }
   },
   "cell_type": "code",
   "source": "df.dtypes",
   "id": "8e6dfc59cd889672",
   "execution_count": 54,
   "outputs": []
  },
  {
   "metadata": {
    "ExecuteTime": {
     "end_time": "2024-05-31T18:46:17.089476Z",
     "start_time": "2024-05-31T18:46:17.087244Z"
    }
   },
   "cell_type": "code",
   "source": [
    "def create_time_series(data, n_past):\n",
    "    X, y = [], []\n",
    "    for i in range(n_past, len(data)):\n",
    "            X.append(data[i - n_past:i, 0:data.shape[1]])\n",
    "            y.append(data[i,0])\n",
    "    return np.array(X),np.array(y)"
   ],
   "id": "7729010d4574130b",
   "execution_count": 55,
   "outputs": []
  },
  {
   "metadata": {
    "ExecuteTime": {
     "end_time": "2024-05-31T18:46:17.093348Z",
     "start_time": "2024-05-31T18:46:17.090597Z"
    }
   },
   "cell_type": "code",
   "source": [
    "def create_model(train_input_shape):\n",
    "    model = Sequential(name='Bidirectional_GRU')\n",
    "    optimizer = Adam(learning_rate=0.001) \n",
    "    \n",
    "    model.add(Input(shape=(train_input_shape.shape[1], train_input_shape.shape[2])))\n",
    "    model.add(Bidirectional(GRU(128, return_sequences=True)))\n",
    "    model.add(Dropout(0.3))\n",
    "    model.add(Bidirectional(GRU(64, return_sequences=True)))\n",
    "    model.add(Dropout(0.3))\n",
    "    model.add(Bidirectional(GRU(32)))\n",
    "    model.add(Dense(units=32, activation=\"relu\"))\n",
    "    model.add(Dense(1))\n",
    "    \n",
    "    model.compile(optimizer=optimizer, loss=\"mean_squared_error\")\n",
    "    return model"
   ],
   "id": "ef75ccf6e0ae2ff4",
   "execution_count": 56,
   "outputs": []
  },
  {
   "metadata": {
    "ExecuteTime": {
     "end_time": "2024-05-31T18:46:17.102371Z",
     "start_time": "2024-05-31T18:46:17.099994Z"
    }
   },
   "cell_type": "code",
   "source": [
    "# Callbacks for early stopping and learning rate reduction\n",
    "early_stopping = EarlyStopping(monitor='val_loss', patience=10, restore_best_weights=True)\n",
    "reduce_lr = ReduceLROnPlateau(monitor='val_loss', factor=0.5, patience=5, min_lr=1e-6)"
   ],
   "id": "15b40e81966305f9",
   "execution_count": 57,
   "outputs": []
  },
  {
   "metadata": {
    "ExecuteTime": {
     "end_time": "2024-05-31T18:46:17.120014Z",
     "start_time": "2024-05-31T18:46:17.118149Z"
    }
   },
   "cell_type": "code",
   "source": "window_size = 24",
   "id": "edbe9e54a710cd5d",
   "execution_count": 58,
   "outputs": []
  },
  {
   "metadata": {
    "ExecuteTime": {
     "end_time": "2024-05-31T18:46:17.141601Z",
     "start_time": "2024-05-31T18:46:17.139491Z"
    }
   },
   "cell_type": "code",
   "source": [
    "input_data = df.columns.tolist()\n",
    "output_data = 'price'\n",
    "\n",
    "input_data.remove(output_data)\n",
    "input_data.remove('date')"
   ],
   "id": "c8310c0114468363",
   "execution_count": 59,
   "outputs": []
  },
  {
   "metadata": {
    "ExecuteTime": {
     "end_time": "2024-05-31T18:46:17.356196Z",
     "start_time": "2024-05-31T18:46:17.195378Z"
    }
   },
   "cell_type": "code",
   "source": [
    "ig_scores = mutual_info_regression(df[input_data], df[output_data])\n",
    "\n",
    "feature_scores = pd.DataFrame({'Feature': df[input_data].columns, 'Information_Gain': ig_scores})\n",
    "feature_scores = feature_scores.sort_values(by='Information_Gain', ascending=False)\n",
    "\n",
    "feature_scores.reset_index(drop=True, inplace=True)\n",
    "feature_scores.head()"
   ],
   "id": "516560b3fae9b019",
   "execution_count": 60,
   "outputs": []
  },
  {
   "metadata": {
    "ExecuteTime": {
     "end_time": "2024-05-31T18:46:17.359224Z",
     "start_time": "2024-05-31T18:46:17.357088Z"
    }
   },
   "cell_type": "code",
   "source": [
    "output_data = [output_data]\n",
    "for i in feature_scores['Feature'][:3].tolist():\n",
    "    output_data.append(i)"
   ],
   "id": "56e80f9f6ddca59b",
   "execution_count": 61,
   "outputs": []
  },
  {
   "metadata": {
    "ExecuteTime": {
     "end_time": "2024-05-31T18:46:17.364302Z",
     "start_time": "2024-05-31T18:46:17.359892Z"
    }
   },
   "cell_type": "code",
   "source": [
    "input_columns = output_data\n",
    "df[input_columns].head()"
   ],
   "id": "e3b1b82a6f9dea4d",
   "execution_count": 62,
   "outputs": []
  },
  {
   "metadata": {
    "ExecuteTime": {
     "end_time": "2024-05-31T18:46:17.367982Z",
     "start_time": "2024-05-31T18:46:17.365632Z"
    }
   },
   "cell_type": "code",
   "source": [
    "filtered_df = df[input_columns]\n",
    "dataset = filtered_df.values"
   ],
   "id": "7b72c9509b4210b0",
   "execution_count": 63,
   "outputs": []
  },
  {
   "metadata": {
    "ExecuteTime": {
     "end_time": "2024-05-31T18:46:17.370608Z",
     "start_time": "2024-05-31T18:46:17.368559Z"
    }
   },
   "cell_type": "code",
   "source": [
    "test_data_size = round(0.2 * len(dataset))\n",
    "\n",
    "train_data = dataset[:-test_data_size]\n",
    "test_data = dataset[-test_data_size:]\n",
    "\n",
    "print(\"Train data shape:\", train_data.shape)\n",
    "print(\"Test data shape:\", test_data.shape)"
   ],
   "id": "b5c56fbb9f06973e",
   "execution_count": 64,
   "outputs": []
  },
  {
   "metadata": {
    "ExecuteTime": {
     "end_time": "2024-05-31T18:46:17.373933Z",
     "start_time": "2024-05-31T18:46:17.371155Z"
    }
   },
   "cell_type": "code",
   "source": [
    "scaler = MinMaxScaler()\n",
    "\n",
    "train_data = scaler.fit_transform(train_data)\n",
    "test_data = scaler.transform(test_data)"
   ],
   "id": "678ec31c805a69b1",
   "execution_count": 65,
   "outputs": []
  },
  {
   "metadata": {
    "ExecuteTime": {
     "end_time": "2024-05-31T18:46:17.390369Z",
     "start_time": "2024-05-31T18:46:17.374528Z"
    }
   },
   "cell_type": "code",
   "source": [
    "X_train, y_train = create_time_series(train_data, window_size)\n",
    "X_test, y_test = create_time_series(test_data, window_size)"
   ],
   "id": "9da4ef3dcd5f80c4",
   "execution_count": 66,
   "outputs": []
  },
  {
   "metadata": {
    "ExecuteTime": {
     "end_time": "2024-05-31T18:46:17.395140Z",
     "start_time": "2024-05-31T18:46:17.391390Z"
    }
   },
   "cell_type": "code",
   "source": [
    "print(\"Shape of X_train:\", X_train.shape)\n",
    "print(\"Shape of X_test:\", X_test.shape)\n",
    "print(\"Shape of y_train:\", y_train.shape)\n",
    "print(\"Shape of y_test:\", y_test.shape)"
   ],
   "id": "e4f5290cf22659f8",
   "execution_count": 67,
   "outputs": []
  },
  {
   "metadata": {
    "ExecuteTime": {
     "end_time": "2024-05-31T18:46:17.471928Z",
     "start_time": "2024-05-31T18:46:17.396201Z"
    }
   },
   "cell_type": "code",
   "source": "model = create_model(X_train)",
   "id": "623cc643cfb418cc",
   "execution_count": 68,
   "outputs": []
  },
  {
   "metadata": {
    "ExecuteTime": {
     "end_time": "2024-05-31T19:01:09.764569Z",
     "start_time": "2024-05-31T18:46:17.474180Z"
    }
   },
   "cell_type": "code",
   "source": [
    "hist = model.fit(\n",
    "    X_train, y_train,\n",
    "    epochs=100,\n",
    "    batch_size=64,\n",
    "    validation_data=(X_test, y_test),\n",
    "    verbose=1,\n",
    "    callbacks=[early_stopping, reduce_lr]\n",
    ")"
   ],
   "id": "4c2864b28ad521d9",
   "execution_count": 69,
   "outputs": []
  },
  {
   "metadata": {
    "ExecuteTime": {
     "end_time": "2024-05-31T19:01:11.497077Z",
     "start_time": "2024-05-31T19:01:09.765996Z"
    }
   },
   "cell_type": "code",
   "source": "predicted = model.predict(X_test, verbose=0)",
   "id": "807df95438bc96d6",
   "execution_count": 70,
   "outputs": []
  },
  {
   "metadata": {
    "ExecuteTime": {
     "end_time": "2024-05-31T19:01:11.500845Z",
     "start_time": "2024-05-31T19:01:11.497768Z"
    }
   },
   "cell_type": "code",
   "source": [
    "predicted_copy_array = np.repeat(predicted, len(input_columns), axis=-1)\n",
    "predicted_copy_array.shape"
   ],
   "id": "7f43af7257334f21",
   "execution_count": 71,
   "outputs": []
  },
  {
   "metadata": {
    "ExecuteTime": {
     "end_time": "2024-05-31T19:01:11.504592Z",
     "start_time": "2024-05-31T19:01:11.501378Z"
    }
   },
   "cell_type": "code",
   "source": [
    "pred = scaler.inverse_transform(np.reshape(predicted_copy_array,(len(predicted), len(input_columns))))[:, 0]\n",
    "actual_copy_array = np.repeat(y_test, len(input_columns), axis=-1)\n",
    "actual = scaler.inverse_transform(np.reshape(actual_copy_array,(len(y_test), len(input_columns))))[:, 0]"
   ],
   "id": "9ae1d5977997b0e7",
   "execution_count": 72,
   "outputs": []
  },
  {
   "metadata": {
    "ExecuteTime": {
     "end_time": "2024-05-31T19:01:11.508527Z",
     "start_time": "2024-05-31T19:01:11.505185Z"
    }
   },
   "cell_type": "code",
   "source": [
    "mse = mean_squared_error(actual, pred)\n",
    "mae = mean_absolute_error(actual, pred)\n",
    "evs = explained_variance_score(actual, pred)"
   ],
   "id": "7fdab36ed3a6ddc2",
   "execution_count": 73,
   "outputs": []
  },
  {
   "metadata": {
    "ExecuteTime": {
     "end_time": "2024-05-31T19:01:11.511178Z",
     "start_time": "2024-05-31T19:01:11.509349Z"
    }
   },
   "cell_type": "code",
   "source": [
    "print(f'MSE: {mse:.2f}')\n",
    "print(f'MAE: {mae:.2f}')\n",
    "print(f'EVS: {evs:.2f}')"
   ],
   "id": "6d93f93f8fb8126a",
   "execution_count": 74,
   "outputs": []
  },
  {
   "metadata": {
    "ExecuteTime": {
     "end_time": "2024-05-31T19:01:11.525129Z",
     "start_time": "2024-05-31T19:01:11.512002Z"
    }
   },
   "cell_type": "code",
   "source": [
    "dates = df['date'].values\n",
    "\n",
    "output_df = {\n",
    "    'Date': dates[-test_data_size + window_size:],\n",
    "    'True': actual,\n",
    "    'Predicted': pred\n",
    "}\n",
    "\n",
    "output_df = pd.DataFrame(output_df)\n",
    "output_df.head(10)"
   ],
   "id": "18383e9230823703",
   "execution_count": 75,
   "outputs": []
  },
  {
   "metadata": {
    "ExecuteTime": {
     "end_time": "2024-05-31T19:01:11.529399Z",
     "start_time": "2024-05-31T19:01:11.526036Z"
    }
   },
   "cell_type": "code",
   "source": [
    "def line_plot(plot_out_df):\n",
    "    plt.figure(figsize=(12, 8))\n",
    "    plt.plot(plot_out_df['Date'], plot_out_df['True'], label='True')\n",
    "    plt.plot(plot_out_df['Date'], plot_out_df['Predicted'], label='Predicted')\n",
    "    plt.xlabel('Time')\n",
    "    plt.ylabel('Price')\n",
    "    plt.title('Actual vs Predicted values')\n",
    "    plt.legend()\n",
    "    plt.xticks(rotation=90)\n",
    "    plt.tight_layout()\n",
    "    plt.show()"
   ],
   "id": "bf6a7ff7ca1af799",
   "execution_count": 76,
   "outputs": []
  },
  {
   "metadata": {
    "ExecuteTime": {
     "end_time": "2024-05-31T19:01:11.532951Z",
     "start_time": "2024-05-31T19:01:11.530233Z"
    }
   },
   "cell_type": "code",
   "source": [
    "def loss_line_plot():\n",
    "    plt.figure(figsize=(16, 6))\n",
    "    plt.plot(hist.history['loss'])\n",
    "    plt.plot(hist.history['val_loss'])\n",
    "    plt.title('Model loss')\n",
    "    plt.ylabel('Loss')\n",
    "    plt.xlabel('Epoch')\n",
    "    plt.legend(['Train', 'Validation'], loc='upper right')\n",
    "    plt.show()"
   ],
   "id": "6f230d5326f77600",
   "execution_count": 77,
   "outputs": []
  },
  {
   "metadata": {
    "ExecuteTime": {
     "end_time": "2024-05-31T19:01:11.796383Z",
     "start_time": "2024-05-31T19:01:11.533830Z"
    }
   },
   "cell_type": "code",
   "source": "line_plot(output_df.head(50))",
   "id": "22a8fdf99569e21d",
   "execution_count": 78,
   "outputs": []
  },
  {
   "metadata": {
    "ExecuteTime": {
     "end_time": "2024-05-31T19:01:11.920972Z",
     "start_time": "2024-05-31T19:01:11.798960Z"
    }
   },
   "cell_type": "code",
   "source": "loss_line_plot()",
   "id": "5217407aa1c34000",
   "execution_count": 79,
   "outputs": []
  }
 ],
 "metadata": {
  "kernelspec": {
   "display_name": "Python 3",
   "language": "python",
   "name": "python3"
  },
  "language_info": {
   "codemirror_mode": {
    "name": "ipython",
    "version": 2
   },
   "file_extension": ".py",
   "mimetype": "text/x-python",
   "name": "python",
   "nbconvert_exporter": "python",
   "pygments_lexer": "ipython2",
   "version": "2.7.6"
  }
 },
 "nbformat": 4,
 "nbformat_minor": 5
}
