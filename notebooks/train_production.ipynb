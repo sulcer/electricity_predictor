{
 "cells": [
  {
   "cell_type": "code",
   "id": "initial_id",
   "metadata": {
    "collapsed": true,
    "ExecuteTime": {
     "end_time": "2024-05-31T20:14:34.210936Z",
     "start_time": "2024-05-31T20:14:34.206139Z"
    }
   },
   "source": [
    "import pandas as pd\n",
    "import numpy as np\n",
    "from keras.src.layers import GRU, Dropout, Dense\n",
    "from keras.src.optimizers import Adam\n",
    "from keras import Sequential, Input\n",
    "from sklearn.feature_selection import mutual_info_regression\n",
    "from sklearn.preprocessing import MinMaxScaler\n",
    "from sklearn.metrics import mean_squared_error, mean_absolute_error, explained_variance_score\n",
    "from matplotlib import pyplot as plt"
   ],
   "execution_count": 164,
   "outputs": []
  },
  {
   "metadata": {
    "ExecuteTime": {
     "end_time": "2024-05-31T20:14:34.258847Z",
     "start_time": "2024-05-31T20:14:34.215296Z"
    }
   },
   "cell_type": "code",
   "source": [
    "df_1 = pd.read_csv(\"../data/processed/production_cross_data.csv\")\n",
    "df_2 = pd.read_csv(\"../data/processed/production_fossil_data.csv\")\n",
    "df_3 = pd.read_csv(\"../data/processed/production_hydro_data.csv\")\n",
    "df_4 = pd.read_csv(\"../data/processed/production_nuclear_data.csv\")\n",
    "\n",
    "dfs = [df_1, df_2, df_3, df_4]"
   ],
   "id": "3a8fe0186b8084e0",
   "execution_count": 165,
   "outputs": []
  },
  {
   "metadata": {
    "ExecuteTime": {
     "end_time": "2024-05-31T20:14:34.265933Z",
     "start_time": "2024-05-31T20:14:34.259867Z"
    }
   },
   "cell_type": "code",
   "source": "df_1.head()",
   "id": "3b7b1d92089fba47",
   "execution_count": 166,
   "outputs": []
  },
  {
   "metadata": {
    "ExecuteTime": {
     "end_time": "2024-05-31T20:14:34.271442Z",
     "start_time": "2024-05-31T20:14:34.267057Z"
    }
   },
   "cell_type": "code",
   "source": "df_2.head()",
   "id": "6c819a2f8abfbb69",
   "execution_count": 167,
   "outputs": []
  },
  {
   "metadata": {
    "ExecuteTime": {
     "end_time": "2024-05-31T20:14:34.276655Z",
     "start_time": "2024-05-31T20:14:34.272321Z"
    }
   },
   "cell_type": "code",
   "source": "df_3.head()",
   "id": "b2b7949314c5a32b",
   "execution_count": 168,
   "outputs": []
  },
  {
   "metadata": {
    "ExecuteTime": {
     "end_time": "2024-05-31T20:14:34.281554Z",
     "start_time": "2024-05-31T20:14:34.277633Z"
    }
   },
   "cell_type": "code",
   "source": "df_4.head()",
   "id": "313530959d7ce0a3",
   "execution_count": 169,
   "outputs": []
  },
  {
   "metadata": {
    "ExecuteTime": {
     "end_time": "2024-05-31T20:14:34.286114Z",
     "start_time": "2024-05-31T20:14:34.282556Z"
    }
   },
   "cell_type": "code",
   "source": "df_1.isnull().sum()",
   "id": "88729e7bc63ebd57",
   "execution_count": 170,
   "outputs": []
  },
  {
   "metadata": {
    "ExecuteTime": {
     "end_time": "2024-05-31T20:14:34.298562Z",
     "start_time": "2024-05-31T20:14:34.295150Z"
    }
   },
   "cell_type": "code",
   "source": "df_2.isnull().sum()",
   "id": "a2d4464cae72f5a0",
   "execution_count": 171,
   "outputs": []
  },
  {
   "metadata": {
    "ExecuteTime": {
     "end_time": "2024-05-31T20:14:34.321743Z",
     "start_time": "2024-05-31T20:14:34.318404Z"
    }
   },
   "cell_type": "code",
   "source": "df_3.isnull().sum()",
   "id": "4b7eba226eec1172",
   "execution_count": 172,
   "outputs": []
  },
  {
   "metadata": {
    "ExecuteTime": {
     "end_time": "2024-05-31T20:14:34.432393Z",
     "start_time": "2024-05-31T20:14:34.428727Z"
    }
   },
   "cell_type": "code",
   "source": "df_4.isnull().sum()",
   "id": "324c551d9918248e",
   "execution_count": 173,
   "outputs": []
  },
  {
   "metadata": {
    "ExecuteTime": {
     "end_time": "2024-05-31T20:14:34.525838Z",
     "start_time": "2024-05-31T20:14:34.519839Z"
    }
   },
   "cell_type": "code",
   "source": [
    "for df in dfs:\n",
    "    cols = df.columns.tolist()\n",
    "    cols.remove(\"date\")\n",
    "    df[cols] = df[cols].bfill()"
   ],
   "id": "20ca2a158f5592fc",
   "execution_count": 174,
   "outputs": []
  },
  {
   "metadata": {
    "ExecuteTime": {
     "end_time": "2024-05-31T20:14:34.534032Z",
     "start_time": "2024-05-31T20:14:34.531636Z"
    }
   },
   "cell_type": "code",
   "source": [
    "def create_time_series(data, n_past):\n",
    "    X, y = [], []\n",
    "    for i in range(n_past, len(data)):\n",
    "            X.append(data[i - n_past:i, 0:data.shape[1]])\n",
    "            y.append(data[i,0])\n",
    "    return np.array(X),np.array(y)"
   ],
   "id": "bcc86e7a3a816219",
   "execution_count": 175,
   "outputs": []
  },
  {
   "metadata": {
    "ExecuteTime": {
     "end_time": "2024-05-31T20:14:40.323475Z",
     "start_time": "2024-05-31T20:14:34.586586Z"
    }
   },
   "cell_type": "code",
   "source": [
    "def create_model(train_input_shape):\n",
    "    model = Sequential(name='GRU')\n",
    "    optimizer = Adam(learning_rate=0.01)\n",
    "    \n",
    "    model.add(Input(shape=(train_input_shape.shape[1], train_input_shape.shape[2])))\n",
    "    model.add(GRU(128, return_sequences=True))\n",
    "    model.add(Dropout(0.2))\n",
    "    model.add(GRU(64, return_sequences=True))\n",
    "    model.add(Dropout(0.2))\n",
    "    model.add(GRU(32))\n",
    "    model.add(Dense(units=32, activation=\"relu\"))\n",
    "    model.add(Dense(1))\n",
    "    \n",
    "    model.compile(optimizer=optimizer, loss=\"mean_squared_error\")\n",
    "    return model"
   ],
   "id": "d797c00222f53d1",
   "execution_count": 176,
   "outputs": []
  },
  {
   "metadata": {
    "ExecuteTime": {
     "end_time": "2024-05-31T20:14:40.325837Z",
     "start_time": "2024-05-31T20:14:40.324406Z"
    }
   },
   "cell_type": "code",
   "source": "window_size = 24",
   "id": "44a333b9d853cf49",
   "execution_count": 177,
   "outputs": []
  },
  {
   "metadata": {
    "ExecuteTime": {
     "end_time": "2024-05-31T20:14:40.328337Z",
     "start_time": "2024-05-31T20:14:40.326624Z"
    }
   },
   "cell_type": "code",
   "source": [
    "def select_input_data(df):\n",
    "    input_data = df.columns.tolist()\n",
    "    output_data = 'production'\n",
    "\n",
    "    input_data.remove(output_data)\n",
    "    input_data.remove('date')\n",
    "    return input_data, output_data"
   ],
   "id": "985868c6243c4560",
   "execution_count": 178,
   "outputs": []
  },
  {
   "metadata": {
    "ExecuteTime": {
     "end_time": "2024-05-31T20:14:40.986682Z",
     "start_time": "2024-05-31T20:14:40.329374Z"
    }
   },
   "cell_type": "code",
   "source": [
    "def mutual_regression_score(df, input_data, output_data):\n",
    "    ig_scores = mutual_info_regression(df[input_data], df[output_data])\n",
    "\n",
    "    feature_scores = pd.DataFrame({'Feature': df[input_data].columns, 'Information_Gain': ig_scores})\n",
    "    feature_scores = feature_scores.sort_values(by='Information_Gain', ascending=False)\n",
    "\n",
    "    feature_scores.reset_index(drop=True, inplace=True)\n",
    "    print(feature_scores.head())\n",
    "    \n",
    "    return feature_scores"
   ],
   "id": "5fa259ef1e85f7ab",
   "execution_count": 179,
   "outputs": []
  },
  {
   "metadata": {
    "ExecuteTime": {
     "end_time": "2024-05-31T20:14:40.989554Z",
     "start_time": "2024-05-31T20:14:40.987457Z"
    }
   },
   "cell_type": "code",
   "source": [
    "def select_features(output_data, feature_scores):\n",
    "    output_data = [output_data]\n",
    "    for i in feature_scores['Feature'][:3].tolist():\n",
    "        output_data.append(i)\n",
    "        \n",
    "    input_columns = output_data\n",
    "    print(df[input_columns].head())\n",
    "    \n",
    "    filtered_df = df[input_columns]\n",
    "    dataset = filtered_df.values\n",
    "    return dataset, input_columns"
   ],
   "id": "ed76980abdf979b1",
   "execution_count": 180,
   "outputs": []
  },
  {
   "metadata": {
    "ExecuteTime": {
     "end_time": "2024-05-31T20:14:40.993315Z",
     "start_time": "2024-05-31T20:14:40.990741Z"
    }
   },
   "cell_type": "code",
   "source": [
    "def shape_data(dataset):\n",
    "    test_data_size = round(0.2 * len(dataset))\n",
    "\n",
    "    train_data = dataset[:-test_data_size]\n",
    "    test_data = dataset[-test_data_size:]\n",
    "\n",
    "    print(\"Train data shape:\", train_data.shape)\n",
    "    print(\"Test data shape:\", test_data.shape)\n",
    "    \n",
    "    return train_data, test_data, test_data_size"
   ],
   "id": "48d06fb6102f085b",
   "execution_count": 181,
   "outputs": []
  },
  {
   "metadata": {
    "ExecuteTime": {
     "end_time": "2024-05-31T20:14:40.998925Z",
     "start_time": "2024-05-31T20:14:40.994514Z"
    }
   },
   "cell_type": "code",
   "source": [
    "def execute_training(train_data, test_data, input_columns):\n",
    "    scaler = MinMaxScaler()\n",
    "\n",
    "    train_data = scaler.fit_transform(train_data)\n",
    "    test_data = scaler.transform(test_data)\n",
    "    \n",
    "    X_train, y_train = create_time_series(train_data, window_size)\n",
    "    X_test, y_test = create_time_series(test_data, window_size)\n",
    "    \n",
    "    print(\"Shape of X_train:\", X_train.shape)\n",
    "    print(\"Shape of X_test:\", X_test.shape)\n",
    "    print(\"Shape of y_train:\", y_train.shape)\n",
    "    print(\"Shape of y_test:\", y_test.shape)\n",
    "    \n",
    "    model = create_model(X_train)\n",
    "    \n",
    "    hist = model.fit(X_train, y_train, epochs=10, batch_size=64, validation_data=(X_test, y_test), verbose=1)\n",
    "    \n",
    "    predicted = model.predict(X_test, verbose=0)\n",
    "    \n",
    "    predicted_copy_array = np.repeat(predicted, len(input_columns), axis=-1)\n",
    "    print(predicted_copy_array.shape)\n",
    "    \n",
    "    pred = scaler.inverse_transform(np.reshape(predicted_copy_array,(len(predicted), len(input_columns))))[:, 0]\n",
    "    actual_copy_array = np.repeat(y_test, len(input_columns), axis=-1)\n",
    "    actual = scaler.inverse_transform(np.reshape(actual_copy_array,(len(y_test), len(input_columns))))[:, 0]\n",
    "    \n",
    "    return pred, actual, hist"
   ],
   "id": "a97c7654893549ce",
   "execution_count": 182,
   "outputs": []
  },
  {
   "metadata": {
    "ExecuteTime": {
     "end_time": "2024-05-31T20:14:41.003031Z",
     "start_time": "2024-05-31T20:14:41.000024Z"
    }
   },
   "cell_type": "code",
   "source": [
    "def evaluate_model_performance(actual, pred, test_data_size, hist):\n",
    "    mse = mean_squared_error(actual, pred)\n",
    "    mae = mean_absolute_error(actual, pred)\n",
    "    evs = explained_variance_score(actual, pred)\n",
    "    \n",
    "    print(f'MSE: {mse:.2f}')\n",
    "    print(f'MAE: {mae:.2f}')\n",
    "    print(f'EVS: {evs:.2f}')\n",
    "    \n",
    "    dates = df['date'].values\n",
    "\n",
    "    output_df = {\n",
    "        'Date': dates[-test_data_size + window_size:],\n",
    "        'True': actual,\n",
    "        'Predicted': pred\n",
    "    }\n",
    "\n",
    "    output_df = pd.DataFrame(output_df)\n",
    "    print(output_df.head(10))\n",
    "    \n",
    "    line_plot(output_df.head(50))\n",
    "    loss_line_plot(hist)"
   ],
   "id": "63ab06a365e5914f",
   "execution_count": 183,
   "outputs": []
  },
  {
   "metadata": {
    "ExecuteTime": {
     "end_time": "2024-05-31T20:14:41.245305Z",
     "start_time": "2024-05-31T20:14:41.003707Z"
    }
   },
   "cell_type": "code",
   "source": [
    "def line_plot(plot_out_df):\n",
    "    plt.figure(figsize=(12, 8))\n",
    "    plt.plot(plot_out_df['Date'], plot_out_df['True'], label='True')\n",
    "    plt.plot(plot_out_df['Date'], plot_out_df['Predicted'], label='Predicted')\n",
    "    plt.xlabel('Time')\n",
    "    plt.ylabel('Price')\n",
    "    plt.title('Actual vs Predicted values')\n",
    "    plt.legend()\n",
    "    plt.xticks(rotation=90)\n",
    "    plt.tight_layout()\n",
    "    plt.show()"
   ],
   "id": "7157df312f6817c",
   "execution_count": 184,
   "outputs": []
  },
  {
   "metadata": {
    "ExecuteTime": {
     "end_time": "2024-05-31T20:14:41.249091Z",
     "start_time": "2024-05-31T20:14:41.246930Z"
    }
   },
   "cell_type": "code",
   "source": [
    "def loss_line_plot(hist):\n",
    "    plt.figure(figsize=(16, 6))\n",
    "    plt.plot(hist.history['loss'])\n",
    "    plt.plot(hist.history['val_loss'])\n",
    "    plt.title('Model loss')\n",
    "    plt.ylabel('Loss')\n",
    "    plt.xlabel('Epoch')\n",
    "    plt.legend(['Train', 'Validation'], loc='upper right')\n",
    "    plt.show()"
   ],
   "id": "3acd83ab5e8c0da4",
   "execution_count": 185,
   "outputs": []
  },
  {
   "metadata": {
    "ExecuteTime": {
     "end_time": "2024-05-31T20:18:44.621971Z",
     "start_time": "2024-05-31T20:14:41.249862Z"
    }
   },
   "cell_type": "code",
   "source": [
    "for df in dfs:\n",
    "    input_data, output_data = select_input_data(df)\n",
    "    feature_scores = mutual_regression_score(df, input_data, output_data)\n",
    "    dataset, input_columns = select_features(output_data, feature_scores)\n",
    "    train_data, test_data, test_data_size = shape_data(dataset)\n",
    "    pred, actual, hist = execute_training(train_data, test_data, input_columns)\n",
    "    evaluate_model_performance(actual, pred, test_data_size, hist)"
   ],
   "id": "15d62c45392be6f6",
   "execution_count": 186,
   "outputs": []
  }
 ],
 "metadata": {
  "kernelspec": {
   "display_name": "Python 3",
   "language": "python",
   "name": "python3"
  },
  "language_info": {
   "codemirror_mode": {
    "name": "ipython",
    "version": 2
   },
   "file_extension": ".py",
   "mimetype": "text/x-python",
   "name": "python",
   "nbconvert_exporter": "python",
   "pygments_lexer": "ipython2",
   "version": "2.7.6"
  }
 },
 "nbformat": 4,
 "nbformat_minor": 5
}
