{
 "cells": [
  {
   "cell_type": "code",
   "id": "initial_id",
   "metadata": {
    "collapsed": true,
    "ExecuteTime": {
     "end_time": "2024-06-04T07:54:27.250828Z",
     "start_time": "2024-06-04T07:54:27.247157Z"
    }
   },
   "source": [
    "import pandas as pd\n",
    "import numpy as np\n",
    "from keras.src.layers import GRU, Dropout, Dense\n",
    "from keras.src.optimizers import Adam\n",
    "from keras import Sequential, Input\n",
    "from sklearn.feature_selection import mutual_info_regression\n",
    "from sklearn.preprocessing import MinMaxScaler\n",
    "from sklearn.metrics import mean_squared_error, mean_absolute_error, explained_variance_score\n",
    "from matplotlib import pyplot as plt"
   ],
   "execution_count": 24,
   "outputs": []
  },
  {
   "metadata": {
    "ExecuteTime": {
     "end_time": "2024-06-04T07:54:27.842440Z",
     "start_time": "2024-06-04T07:54:27.810702Z"
    }
   },
   "cell_type": "code",
   "source": [
    "df_1 = pd.read_csv(\"../data/processed/production_cross_data.csv\")\n",
    "df_2 = pd.read_csv(\"../data/processed/production_fossil_data.csv\")\n",
    "df_3 = pd.read_csv(\"../data/processed/production_hydro_data.csv\")\n",
    "df_4 = pd.read_csv(\"../data/processed/production_nuclear_data.csv\")\n",
    "\n",
    "dfs = [df_1, df_2, df_3, df_4]"
   ],
   "id": "3a8fe0186b8084e0",
   "execution_count": 25,
   "outputs": []
  },
  {
   "metadata": {
    "ExecuteTime": {
     "end_time": "2024-06-04T07:54:28.441705Z",
     "start_time": "2024-06-04T07:54:28.436295Z"
    }
   },
   "cell_type": "code",
   "source": "df_1.head()",
   "id": "3b7b1d92089fba47",
   "execution_count": 26,
   "outputs": []
  },
  {
   "metadata": {
    "ExecuteTime": {
     "end_time": "2024-06-04T07:54:29.125055Z",
     "start_time": "2024-06-04T07:54:29.120151Z"
    }
   },
   "cell_type": "code",
   "source": "df_2.head()",
   "id": "6c819a2f8abfbb69",
   "execution_count": 27,
   "outputs": []
  },
  {
   "metadata": {
    "ExecuteTime": {
     "end_time": "2024-06-04T07:54:29.678737Z",
     "start_time": "2024-06-04T07:54:29.673516Z"
    }
   },
   "cell_type": "code",
   "source": "df_3.head()",
   "id": "b2b7949314c5a32b",
   "execution_count": 28,
   "outputs": []
  },
  {
   "metadata": {
    "ExecuteTime": {
     "end_time": "2024-06-04T07:54:30.197819Z",
     "start_time": "2024-06-04T07:54:30.192717Z"
    }
   },
   "cell_type": "code",
   "source": "df_4.head()",
   "id": "313530959d7ce0a3",
   "execution_count": 29,
   "outputs": []
  },
  {
   "metadata": {
    "ExecuteTime": {
     "end_time": "2024-06-04T07:54:31.000989Z",
     "start_time": "2024-06-04T07:54:30.997010Z"
    }
   },
   "cell_type": "code",
   "source": "df_1.isnull().sum()",
   "id": "88729e7bc63ebd57",
   "execution_count": 30,
   "outputs": []
  },
  {
   "metadata": {
    "ExecuteTime": {
     "end_time": "2024-06-04T07:54:31.744652Z",
     "start_time": "2024-06-04T07:54:31.740923Z"
    }
   },
   "cell_type": "code",
   "source": "df_2.isnull().sum()",
   "id": "a2d4464cae72f5a0",
   "execution_count": 31,
   "outputs": []
  },
  {
   "metadata": {
    "ExecuteTime": {
     "end_time": "2024-06-04T07:54:32.364523Z",
     "start_time": "2024-06-04T07:54:32.360907Z"
    }
   },
   "cell_type": "code",
   "source": "df_3.isnull().sum()",
   "id": "4b7eba226eec1172",
   "execution_count": 32,
   "outputs": []
  },
  {
   "metadata": {
    "ExecuteTime": {
     "end_time": "2024-06-04T07:54:33.004582Z",
     "start_time": "2024-06-04T07:54:33.000190Z"
    }
   },
   "cell_type": "code",
   "source": "df_4.isnull().sum()",
   "id": "324c551d9918248e",
   "execution_count": 33,
   "outputs": []
  },
  {
   "metadata": {
    "ExecuteTime": {
     "end_time": "2024-06-04T07:54:33.514985Z",
     "start_time": "2024-06-04T07:54:33.509368Z"
    }
   },
   "cell_type": "code",
   "source": [
    "for df in dfs:\n",
    "    cols = df.columns.tolist()\n",
    "    cols.remove(\"date\")\n",
    "    df[cols] = df[cols].bfill()"
   ],
   "id": "20ca2a158f5592fc",
   "execution_count": 34,
   "outputs": []
  },
  {
   "metadata": {
    "ExecuteTime": {
     "end_time": "2024-06-04T07:54:34.135276Z",
     "start_time": "2024-06-04T07:54:34.130986Z"
    }
   },
   "cell_type": "code",
   "source": [
    "def create_time_series(data, n_past):\n",
    "    X, y = [], []\n",
    "    for i in range(n_past, len(data)):\n",
    "            X.append(data[i - n_past:i, 0:data.shape[1]])\n",
    "            y.append(data[i,0])\n",
    "    return np.array(X),np.array(y)"
   ],
   "id": "bcc86e7a3a816219",
   "execution_count": 35,
   "outputs": []
  },
  {
   "metadata": {
    "ExecuteTime": {
     "end_time": "2024-06-04T07:54:34.734247Z",
     "start_time": "2024-06-04T07:54:34.731287Z"
    }
   },
   "cell_type": "code",
   "source": [
    "def create_model(train_input_shape):\n",
    "    model = Sequential(name='GRU')\n",
    "    optimizer = Adam(learning_rate=0.01)\n",
    "    \n",
    "    model.add(Input(shape=(train_input_shape.shape[1], train_input_shape.shape[2])))\n",
    "    model.add(GRU(128, return_sequences=True))\n",
    "    model.add(Dropout(0.2))\n",
    "    model.add(GRU(64, return_sequences=True))\n",
    "    model.add(Dropout(0.2))\n",
    "    model.add(GRU(32))\n",
    "    model.add(Dense(units=32, activation=\"relu\"))\n",
    "    model.add(Dense(1))\n",
    "    \n",
    "    model.compile(optimizer=optimizer, loss=\"mean_squared_error\")\n",
    "    return model"
   ],
   "id": "d797c00222f53d1",
   "execution_count": 36,
   "outputs": []
  },
  {
   "metadata": {
    "ExecuteTime": {
     "end_time": "2024-06-04T07:54:35.331837Z",
     "start_time": "2024-06-04T07:54:35.329615Z"
    }
   },
   "cell_type": "code",
   "source": "window_size = 24",
   "id": "44a333b9d853cf49",
   "execution_count": 37,
   "outputs": []
  },
  {
   "metadata": {
    "ExecuteTime": {
     "end_time": "2024-06-04T07:54:35.852650Z",
     "start_time": "2024-06-04T07:54:35.850438Z"
    }
   },
   "cell_type": "code",
   "source": [
    "def select_input_data(df):\n",
    "    input_data = df.columns.tolist()\n",
    "    output_data = 'production'\n",
    "\n",
    "    input_data.remove(output_data)\n",
    "    input_data.remove('date')\n",
    "    return input_data, output_data"
   ],
   "id": "985868c6243c4560",
   "execution_count": 38,
   "outputs": []
  },
  {
   "metadata": {
    "ExecuteTime": {
     "end_time": "2024-06-04T07:54:36.394238Z",
     "start_time": "2024-06-04T07:54:36.391629Z"
    }
   },
   "cell_type": "code",
   "source": [
    "def mutual_regression_score(df, input_data, output_data):\n",
    "    ig_scores = mutual_info_regression(df[input_data], df[output_data])\n",
    "\n",
    "    feature_scores = pd.DataFrame({'Feature': df[input_data].columns, 'Information_Gain': ig_scores})\n",
    "    feature_scores = feature_scores.sort_values(by='Information_Gain', ascending=False)\n",
    "\n",
    "    feature_scores.reset_index(drop=True, inplace=True)\n",
    "    print(feature_scores.head())\n",
    "    \n",
    "    return feature_scores"
   ],
   "id": "5fa259ef1e85f7ab",
   "execution_count": 39,
   "outputs": []
  },
  {
   "metadata": {
    "ExecuteTime": {
     "end_time": "2024-06-04T07:54:37.079687Z",
     "start_time": "2024-06-04T07:54:37.077339Z"
    }
   },
   "cell_type": "code",
   "source": [
    "def select_features(output_data, feature_scores):\n",
    "    output_data = [output_data]\n",
    "    for i in feature_scores['Feature'][:3].tolist():\n",
    "        output_data.append(i)\n",
    "        \n",
    "    input_columns = output_data\n",
    "    print(df[input_columns].head())\n",
    "    \n",
    "    filtered_df = df[input_columns]\n",
    "    dataset = filtered_df.values\n",
    "    return dataset, input_columns"
   ],
   "id": "ed76980abdf979b1",
   "execution_count": 40,
   "outputs": []
  },
  {
   "metadata": {
    "ExecuteTime": {
     "end_time": "2024-06-04T07:54:37.550110Z",
     "start_time": "2024-06-04T07:54:37.547670Z"
    }
   },
   "cell_type": "code",
   "source": [
    "def shape_data(dataset):\n",
    "    test_data_size = round(0.2 * len(dataset))\n",
    "\n",
    "    train_data = dataset[:-test_data_size]\n",
    "    test_data = dataset[-test_data_size:]\n",
    "\n",
    "    print(\"Train data shape:\", train_data.shape)\n",
    "    print(\"Test data shape:\", test_data.shape)\n",
    "    \n",
    "    return train_data, test_data, test_data_size"
   ],
   "id": "48d06fb6102f085b",
   "execution_count": 41,
   "outputs": []
  },
  {
   "metadata": {
    "ExecuteTime": {
     "end_time": "2024-06-04T07:54:38.083205Z",
     "start_time": "2024-06-04T07:54:38.080083Z"
    }
   },
   "cell_type": "code",
   "source": [
    "def execute_training(train_data, test_data, input_columns):\n",
    "    scaler = MinMaxScaler()\n",
    "\n",
    "    train_data = scaler.fit_transform(train_data)\n",
    "    test_data = scaler.transform(test_data)\n",
    "    \n",
    "    X_train, y_train = create_time_series(train_data, window_size)\n",
    "    X_test, y_test = create_time_series(test_data, window_size)\n",
    "    \n",
    "    print(\"Shape of X_train:\", X_train.shape)\n",
    "    print(\"Shape of X_test:\", X_test.shape)\n",
    "    print(\"Shape of y_train:\", y_train.shape)\n",
    "    print(\"Shape of y_test:\", y_test.shape)\n",
    "    \n",
    "    model = create_model(X_train)\n",
    "    \n",
    "    hist = model.fit(X_train, y_train, epochs=10, batch_size=64, validation_data=(X_test, y_test), verbose=1)\n",
    "    \n",
    "    predicted = model.predict(X_test, verbose=0)\n",
    "    \n",
    "    predicted_copy_array = np.repeat(predicted, len(input_columns), axis=-1)\n",
    "    print(predicted_copy_array.shape)\n",
    "    \n",
    "    pred = scaler.inverse_transform(np.reshape(predicted_copy_array,(len(predicted), len(input_columns))))[:, 0]\n",
    "    actual_copy_array = np.repeat(y_test, len(input_columns), axis=-1)\n",
    "    actual = scaler.inverse_transform(np.reshape(actual_copy_array,(len(y_test), len(input_columns))))[:, 0]\n",
    "    \n",
    "    return pred, actual, hist"
   ],
   "id": "a97c7654893549ce",
   "execution_count": 42,
   "outputs": []
  },
  {
   "metadata": {
    "ExecuteTime": {
     "end_time": "2024-06-04T07:54:38.698963Z",
     "start_time": "2024-06-04T07:54:38.696375Z"
    }
   },
   "cell_type": "code",
   "source": [
    "def evaluate_model_performance(actual, pred, test_data_size, hist):\n",
    "    mse = mean_squared_error(actual, pred)\n",
    "    mae = mean_absolute_error(actual, pred)\n",
    "    evs = explained_variance_score(actual, pred)\n",
    "    \n",
    "    print(f'MSE: {mse:.2f}')\n",
    "    print(f'MAE: {mae:.2f}')\n",
    "    print(f'EVS: {evs:.2f}')\n",
    "    \n",
    "    dates = df['date'].values\n",
    "\n",
    "    output_df = {\n",
    "        'Date': dates[-test_data_size + window_size:],\n",
    "        'True': actual,\n",
    "        'Predicted': pred\n",
    "    }\n",
    "\n",
    "    output_df = pd.DataFrame(output_df)\n",
    "    print(output_df.head(10))\n",
    "    \n",
    "    line_plot(output_df.head(50))\n",
    "    loss_line_plot(hist)"
   ],
   "id": "63ab06a365e5914f",
   "execution_count": 43,
   "outputs": []
  },
  {
   "metadata": {
    "ExecuteTime": {
     "end_time": "2024-06-04T07:54:39.207617Z",
     "start_time": "2024-06-04T07:54:39.204386Z"
    }
   },
   "cell_type": "code",
   "source": [
    "def line_plot(plot_out_df):\n",
    "    plt.figure(figsize=(12, 8))\n",
    "    plt.plot(plot_out_df['Date'], plot_out_df['True'], label='True')\n",
    "    plt.plot(plot_out_df['Date'], plot_out_df['Predicted'], label='Predicted')\n",
    "    plt.xlabel('Time')\n",
    "    plt.ylabel('Price')\n",
    "    plt.title('Actual vs Predicted values')\n",
    "    plt.legend()\n",
    "    plt.xticks(rotation=90)\n",
    "    plt.tight_layout()\n",
    "    plt.show()"
   ],
   "id": "7157df312f6817c",
   "execution_count": 44,
   "outputs": []
  },
  {
   "metadata": {
    "ExecuteTime": {
     "end_time": "2024-06-04T07:54:39.872642Z",
     "start_time": "2024-06-04T07:54:39.869995Z"
    }
   },
   "cell_type": "code",
   "source": [
    "def loss_line_plot(hist):\n",
    "    plt.figure(figsize=(16, 6))\n",
    "    plt.plot(hist.history['loss'])\n",
    "    plt.plot(hist.history['val_loss'])\n",
    "    plt.title('Model loss')\n",
    "    plt.ylabel('Loss')\n",
    "    plt.xlabel('Epoch')\n",
    "    plt.legend(['Train', 'Validation'], loc='upper right')\n",
    "    plt.show()"
   ],
   "id": "3acd83ab5e8c0da4",
   "execution_count": 45,
   "outputs": []
  },
  {
   "metadata": {
    "ExecuteTime": {
     "end_time": "2024-06-04T07:58:40.920919Z",
     "start_time": "2024-06-04T07:54:40.420541Z"
    }
   },
   "cell_type": "code",
   "source": [
    "for df in dfs:\n",
    "    input_data, output_data = select_input_data(df)\n",
    "    feature_scores = mutual_regression_score(df, input_data, output_data)\n",
    "    dataset, input_columns = select_features(output_data, feature_scores)\n",
    "    train_data, test_data, test_data_size = shape_data(dataset)\n",
    "    pred, actual, hist = execute_training(train_data, test_data, input_columns)\n",
    "    evaluate_model_performance(actual, pred, test_data_size, hist)"
   ],
   "id": "15d62c45392be6f6",
   "execution_count": 46,
   "outputs": []
  },
  {
   "metadata": {},
   "cell_type": "code",
   "execution_count": null,
   "source": "",
   "id": "586436c5727b97e7",
   "outputs": []
  }
 ],
 "metadata": {
  "kernelspec": {
   "display_name": "Python 3",
   "language": "python",
   "name": "python3"
  },
  "language_info": {
   "codemirror_mode": {
    "name": "ipython",
    "version": 2
   },
   "file_extension": ".py",
   "mimetype": "text/x-python",
   "name": "python",
   "nbconvert_exporter": "python",
   "pygments_lexer": "ipython2",
   "version": "2.7.6"
  }
 },
 "nbformat": 4,
 "nbformat_minor": 5
}
